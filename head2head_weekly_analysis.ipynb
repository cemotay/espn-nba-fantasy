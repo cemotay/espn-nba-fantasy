{
 "cells": [
  {
   "cell_type": "code",
   "execution_count": null,
   "metadata": {},
   "outputs": [],
   "source": [
    "import pandas as pd\n",
    "import numpy as np\n",
    "from EspnFantasyLeague import EspnFantasyLeague\n",
    "from utils.io_json import read_json\n",
    "from utils.utils import simple_matchup_projection, compare_schedules"
   ]
  },
  {
   "cell_type": "code",
   "execution_count": null,
   "metadata": {},
   "outputs": [],
   "source": [
    "settings = read_json('config/config.json')"
   ]
  },
  {
   "cell_type": "code",
   "execution_count": null,
   "metadata": {},
   "outputs": [],
   "source": [
    "cookies = settings['cookies']\n",
    "league_settings = settings['league']\n",
    "url_settings = {\n",
    "    'url_fantasy': settings['url']['fantasy_league'],\n",
    "    'url_nba': settings['url']['nba']\n",
    "}"
   ]
  },
  {
   "cell_type": "code",
   "execution_count": null,
   "metadata": {},
   "outputs": [],
   "source": [
    "week = 7  # Upcoming round number of the fantasy league to project: CHANGE THIS ACCORDINGLY\n",
    "start_date = '2021-02-08'  # start date of the week to project: CHANGE THIS ACCORDINGLY\n",
    "team1 = 'DGGG'  # Abbreviation of fantasy team 1: CHANGE THIS ACCORDINGLY\n",
    "team2 = 'LAM'  # Abbreviation of fantasy team 2: CHANGE THIS ACCORDINGLY\n",
    "\n",
    "start_date = pd.to_datetime(start_date)\n",
    "end_date = start_date + pd.Timedelta(6, 'D')  # Usually a round lasts for a week, if this is not the case, change end data manually.\n",
    "print(end_date)\n",
    "week_of_year = start_date.week"
   ]
  },
  {
   "cell_type": "code",
   "execution_count": null,
   "metadata": {},
   "outputs": [],
   "source": [
    "espn_api = EspnFantasyLeague(cookies=cookies,\n",
    "                             **url_settings,\n",
    "                             **league_settings)"
   ]
  },
  {
   "cell_type": "code",
   "execution_count": null,
   "metadata": {},
   "outputs": [],
   "source": [
    "teams_data = espn_api.get_teams_data()"
   ]
  },
  {
   "cell_type": "code",
   "execution_count": null,
   "metadata": {},
   "outputs": [],
   "source": [
    "schedule_data = espn_api.get_schedule_data(since=start_date, to=end_date)"
   ]
  },
  {
   "cell_type": "markdown",
   "metadata": {},
   "source": [
    "# Project Upcoming Match-up Stats"
   ]
  },
  {
   "cell_type": "code",
   "execution_count": null,
   "metadata": {},
   "outputs": [],
   "source": [
    "fantasy_teams_current_stats_df = espn_api.make_stat_table(teams_data)"
   ]
  },
  {
   "cell_type": "code",
   "execution_count": null,
   "metadata": {},
   "outputs": [],
   "source": [
    "fantasy_teams_stats_df = espn_api.get_total_team_stats_upto_round(teams_data, week=week)"
   ]
  },
  {
   "cell_type": "markdown",
   "metadata": {},
   "source": [
    "## Naive projection\n",
    "Based on teams' total stats"
   ]
  },
  {
   "cell_type": "code",
   "execution_count": null,
   "metadata": {},
   "outputs": [],
   "source": [
    "simple_matchup_projection(fantasy_teams_stats_df, team1, team2)"
   ]
  },
  {
   "cell_type": "markdown",
   "metadata": {},
   "source": [
    "## Simulation Projection\n",
    "Based on teams' schedule, players and their mean stats."
   ]
  },
  {
   "cell_type": "code",
   "execution_count": null,
   "metadata": {},
   "outputs": [],
   "source": [
    "espn_api.simulation(teams_data, schedule_data, team1, team2)"
   ]
  },
  {
   "cell_type": "markdown",
   "metadata": {},
   "source": [
    "# Get Weekly Schedule of Match-up\n",
    "Number of games played by the two fantasy teams in the upcoming round, Injured players are excluded, DTD are included."
   ]
  },
  {
   "cell_type": "code",
   "execution_count": null,
   "metadata": {},
   "outputs": [],
   "source": [
    "schedule_data = espn_api.get_espn_data(espn_api.url_nba, endpoints=['proTeamSchedules'])"
   ]
  },
  {
   "cell_type": "code",
   "execution_count": null,
   "metadata": {},
   "outputs": [],
   "source": [
    "teams_schedule_df = espn_api.make_team_scehdule_table(schedule_data)"
   ]
  },
  {
   "cell_type": "code",
   "execution_count": null,
   "metadata": {},
   "outputs": [],
   "source": [
    "table, total = compare_schedules(teams_data, teams_schedule_df, week_of_year, team1, team2, 8)"
   ]
  },
  {
   "cell_type": "code",
   "execution_count": null,
   "metadata": {},
   "outputs": [],
   "source": [
    "print(table)"
   ]
  },
  {
   "cell_type": "code",
   "execution_count": null,
   "metadata": {},
   "outputs": [],
   "source": [
    "print(total)"
   ]
  }
 ],
 "metadata": {
  "kernelspec": {
   "display_name": "Python 3",
   "language": "python",
   "name": "python3"
  },
  "language_info": {
   "codemirror_mode": {
    "name": "ipython",
    "version": 3
   },
   "file_extension": ".py",
   "mimetype": "text/x-python",
   "name": "python",
   "nbconvert_exporter": "python",
   "pygments_lexer": "ipython3",
   "version": "3.8.5"
  }
 },
 "nbformat": 4,
 "nbformat_minor": 4
}
