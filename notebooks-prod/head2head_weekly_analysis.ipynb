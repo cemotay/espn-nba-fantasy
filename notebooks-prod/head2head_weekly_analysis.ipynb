{
 "cells": [
  {
   "cell_type": "raw",
   "metadata": {},
   "source": [
    "---\n",
    "title: Head to head weekly analysis 2\n",
    "author: Georgios Giasemidis\n",
    "description: Head to head matchup analysis and results simulation\n",
    "show-code: False\n",
    "params:\n",
    "    swid: \n",
    "        input: text\n",
    "        label: swid (cookie)\n",
    "        value: \"\"\n",
    "    espn_s2: \n",
    "        input: text\n",
    "        label: espn_s2 (cookie)\n",
    "        value: \"\"\n",
    "    league_id: \n",
    "        input: text\n",
    "        label: The id of the ESPN league\n",
    "        value: \"\"\n",
    "    season: \n",
    "        input: numeric\n",
    "        label: The season of the league\n",
    "        value: 2023\n",
    "        min: 2015\n",
    "        max: 2025\n",
    "        step: 1\n",
    "    week:\n",
    "        input: numeric\n",
    "        label: The round for analysis\n",
    "        value: None\n",
    "        min: 1\n",
    "        step: 1\n",
    "    home_team:\n",
    "        input: text\n",
    "        label: Abbreviation of the home team\n",
    "        value: \"\"\n",
    "    away_team:\n",
    "        input: text\n",
    "        label: Abbreviation of the away team\n",
    "        value: \"\"\n",
    "    start_date:\n",
    "        input: text\n",
    "        label: Start date of the match-up (YYYY-MM-DD)\n",
    "        value: \"\"\n",
    "    end_date:\n",
    "        input: text\n",
    "        label: End date of the match-up (YYYY-MM-DD)\n",
    "        value: \"\"\n",
    "    use_current_score:\n",
    "        input: checkbox\n",
    "        label: Use round's stats for the projection\n",
    "        value: False\n",
    "    stat_type:\n",
    "        input: select\n",
    "        label: The stat type for the simulation\n",
    "        value: \"season average\"\n",
    "        multi: False\n",
    "        choices: [season average, last 30 days average, last 15 days average, last 7 days average, season's projections, previous season average]\n",
    "    home_team_add:\n",
    "        input: text\n",
    "        label: Home team *added* players for scenario simulations\n",
    "        value: \"\"\n",
    "    home_team_remove:\n",
    "        input: text\n",
    "        label: Home team *removed* players for scenario simulations\n",
    "        value: \"\"\n",
    "    away_team_add:\n",
    "        input: text\n",
    "        label: Away team *added* players for scenario simulations\n",
    "        value: \"\"\n",
    "    away_team_remove:\n",
    "        input: text\n",
    "        label: Away team *removed* players for scenario simulations\n",
    "        value: \"\"\n",
    "---"
   ]
  },
  {
   "cell_type": "code",
   "execution_count": null,
   "metadata": {},
   "outputs": [],
   "source": [
    "swid = \"\"\n",
    "espn_s2 = \"\"\n",
    "league_id = \"\"\n",
    "season = 2023\n",
    "week = 1\n",
    "home_team = \"\"\n",
    "away_team = \"\"\n",
    "start_date = \"\"\n",
    "end_date = \"\"\n",
    "use_current_score = False\n",
    "stat_type = \"season average\"\n",
    "\n",
    "home_team_add = \"\"\n",
    "home_team_remove = \"\"\n",
    "away_team_add = \"\"\n",
    "away_team_remove = \"\""
   ]
  },
  {
   "cell_type": "markdown",
   "metadata": {},
   "source": [
    "# App description\n",
    "\n",
    "This app helps the user to prepare for an upcoming match-up between two fantasy teams. This is based on a league with *Head to Head Each Category* scoring type and 9 statistical categories (FG%, FT%, 3PM, REB, AST, STL, BLK, TO, PTS).\n",
    "\n",
    "* It compares their schedule (number of starter players and unused players) \n",
    "* It compares the teams' historic stats up to this round\n",
    "* Simulates/projects the match-up based on the players' average stats and schedule. \n",
    "* Allows for scenarios, such as replace player X with player Y\n",
    "\n",
    "Further details on [this Medium blog post](https://g-giasemidis.medium.com/nba-fantasy-analytics-with-python-on-epsn-f03f10a60187).\n",
    "\n",
    "Use this *public* league id `10149515` for trying out app. No need for `swid` and `espn_s2` cookies. This league is based on the same nine aforementioned stats, but uses a *Head to Head Points* scoring system. Here, the league is emulated as if the scoring system was \"Head to Head Each Category\". Checkout the [Post round analysis](https://espn-nba-fantasy.herokuapp.com/) app for the participated teams and their abbreaviations.\n",
    "\n",
    "Report bugs and issues [here](https://github.com/giasemidis/espn-nba-fantasy/issues).\n",
    "\n",
    "\n",
    "## App parameters\n",
    "\n",
    "* `swid`: If your league is public, leave blank. Otherwise: In Safari these cookies can be found by opening the Storage tab of Developer tools (developer tools can be turned on in preferences), and looking under espn.com in the Cookies folder. In Chrome, they can be found in Settings -> Cookies and other site data -> See all cookies and site data, and search for ESPN.\n",
    "* `espn_s2`: If your league is public, leave blank. Otherwise, follow above instructions. **CAUTION:** It is likely the cookie id to contain the `%` character. The corresponding field does not accept such a character. Replace it with a `!` (exclamation mark)\n",
    "* `League ID`: Go to your ESPN league page. The URL contains `leagueId=123455`. Copy the number next to the `leagueid` parameters\n",
    "* `Season`: Leave this to current season, i.e. 2023, unless you want to run analysis of a round of a previous season.\n",
    "* `Round`: The round for analysis (a positive integer). It must be a future round, or a round in progress.\n",
    "* `Home team`: Abbrebiation of the home team\n",
    "* `Away team`: Abbreviation of the away team\n",
    "* `Start date`: The start date of the analysis. If the round hasn't started, it should the start date of the round. If the round is in progress, it should be the current date. The format must be \"YYYY-MM-DD\"\n",
    "* `End date`: The end data of the round. It must be later than the start date. The format must be \"YYYY-MM-DD\"\n",
    "* `Use rounds stats`: If the round is in progress, use the accumulated stats so far to make the projection. I.e., if True, the projection will be the combination of the current stats and the projection stats for the remaining days. If False, the projection will be based only on the simulation results.\n",
    "* `Stat type`: The type of stats for the simulation, i.e. \"Season\" (average season stats), \"Last 30\" (average of the last 30 days stats), etc.\n",
    "\n",
    "The following fields should be used for exploring projections with different line-ups without having to make changes on ESPN. For example, questions like: \"what if I replace player X with player Y for dates D1 and D2?\" or \"What if the oppent adds Player Z in their roster?\"\n",
    "* `Home team added players` (Optional): The players' names and dates that should be added in the home team's roster. It should have the following format. `Name A 2022-01-01, 2022-01-02, Name B`, where in this example we add to the player `Name A` on the roster for the two specified dates (comma separated with format `YYYY-MM-DD`) and the player `Name B` for the *all remaining dates* in the match-up (not dates added after the name).\n",
    "* `Home team removed players` (Optional): The players' names and dates that should be removed from the home team's roster. Format same as the example above.\n",
    "* `Away team added players` (Optional): Similar to `Home team added players`, but for the away team.\n",
    "* `Away team removed players` (Optional): Similar to `Home team removed players`, but for the away team.\n",
    "\n",
    "**Caution**: Injured players (status \"O\") and/or players in the IR are excluded from any calculations in the projections. If you want to include them (for any reason), add them in the roster as if they were not in.\n",
    "\n",
    "Example: Say I want to add player \"Cory Joseph\" in my roster for only two dates until the end of the matchup and remove (replace) player \"Terry Taylor\" who is already in my team (home team). Later, I want to replace \"Cory Joseph\" with \"Ish Smith\" until the end of the match-up (2022-03-09).\n",
    "I will do:\n",
    "* \"Home team added players\" field: `Cory Joseph 2022-03-04, 2022-03-07, Ish Smith`\n",
    "* \"Home team added players\" field: `Terry Taylor, Cory Joseph 2022-03-08, 2022-03-09`"
   ]
  },
  {
   "cell_type": "code",
   "execution_count": null,
   "metadata": {},
   "outputs": [],
   "source": [
    "import sys\n",
    "import pandas as pd\n",
    "\n",
    "sys.path.append('../')\n",
    "from src.EspnFantasyMatchUp import EspnFantasyMatchUp\n",
    "from src.utils.io_json import read_json\n",
    "from src.utils.app_utils import convert_input_strs_to_scn_dict, parameter_checks\n",
    "from src.utils.get_logger import get_logger"
   ]
  },
  {
   "cell_type": "code",
   "execution_count": null,
   "metadata": {},
   "outputs": [],
   "source": [
    "logger = get_logger(__name__)"
   ]
  },
  {
   "cell_type": "code",
   "execution_count": null,
   "metadata": {},
   "outputs": [],
   "source": [
    "parameter_checks(logger, swid, espn_s2, league_id)"
   ]
  },
  {
   "cell_type": "code",
   "execution_count": null,
   "metadata": {},
   "outputs": [],
   "source": [
    "cookies = {\n",
    "    \"swid\": swid,\n",
    "    \"espn_s2\": espn_s2.replace(\"!\", \"%\")\n",
    "}\n",
    "league_settings = {\n",
    "    \"league_id\": int(league_id),\n",
    "    \"season\": season\n",
    "}"
   ]
  },
  {
   "cell_type": "code",
   "execution_count": null,
   "metadata": {},
   "outputs": [],
   "source": [
    "home_scn_players = convert_input_strs_to_scn_dict(home_team_add, home_team_remove)\n",
    "away_scn_players = convert_input_strs_to_scn_dict(away_team_add, away_team_remove)"
   ]
  },
  {
   "cell_type": "code",
   "execution_count": null,
   "metadata": {},
   "outputs": [],
   "source": [
    "logger.debug(home_scn_players)\n",
    "logger.debug(away_scn_players)"
   ]
  },
  {
   "cell_type": "code",
   "execution_count": null,
   "metadata": {},
   "outputs": [],
   "source": [
    "start_date = pd.to_datetime(start_date)\n",
    "end_date = pd.to_datetime(end_date)"
   ]
  },
  {
   "cell_type": "code",
   "execution_count": null,
   "metadata": {},
   "outputs": [],
   "source": [
    "espn = EspnFantasyMatchUp(\n",
    "    cookies, league_settings,\n",
    "    week, \n",
    "    home_team=home_team, away_team=away_team, \n",
    "    start_date=start_date, end_date=end_date,\n",
    "    home_scn_players=home_scn_players, away_scn_players=away_scn_players,\n",
    "    stat_type=stat_type\n",
    ")"
   ]
  },
  {
   "cell_type": "markdown",
   "metadata": {},
   "source": [
    "# Head to head comparison of season historic stats"
   ]
  },
  {
   "cell_type": "code",
   "execution_count": null,
   "metadata": {},
   "outputs": [],
   "source": [
    "espn.h2h_season_stats_comparison().astype(\"O\")"
   ]
  },
  {
   "cell_type": "markdown",
   "metadata": {},
   "source": [
    "# Compare Schedule (players per day)"
   ]
  },
  {
   "cell_type": "code",
   "execution_count": null,
   "metadata": {},
   "outputs": [],
   "source": [
    "espn.compare_schedules().astype(\"O\")"
   ]
  },
  {
   "cell_type": "markdown",
   "metadata": {},
   "source": [
    "# Simulate Schedule"
   ]
  },
  {
   "cell_type": "code",
   "execution_count": null,
   "metadata": {},
   "outputs": [],
   "source": [
    "espn.simulation(use_current_score=use_current_score)"
   ]
  }
 ],
 "metadata": {
  "kernelspec": {
   "display_name": "Python 3 (ipykernel)",
   "language": "python",
   "name": "python3"
  },
  "language_info": {
   "codemirror_mode": {
    "name": "ipython",
    "version": 3
   },
   "file_extension": ".py",
   "mimetype": "text/x-python",
   "name": "python",
   "nbconvert_exporter": "python",
   "pygments_lexer": "ipython3",
   "version": "3.8.5"
  }
 },
 "nbformat": 4,
 "nbformat_minor": 4
}
