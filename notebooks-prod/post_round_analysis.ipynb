{
 "cells": [
  {
   "cell_type": "raw",
   "metadata": {},
   "source": [
    "---\n",
    "title: Post round analysis\n",
    "author: Georgios Giasemidis\n",
    "description: Post round analysis of a league\n",
    "show-code: False\n",
    "params:\n",
    "    swid: \n",
    "        input: text\n",
    "        label: swid (cookie)\n",
    "        value: \"\"\n",
    "    espn_s2: \n",
    "        input: text\n",
    "        label: espn_s2 (cookie)\n",
    "        value: \"\"\n",
    "    league_id: \n",
    "        input: text\n",
    "        label: The id of the ESPN league\n",
    "        value: \"\"\n",
    "    season: \n",
    "        input: numeric\n",
    "        label: The season of the league\n",
    "        value: 2023\n",
    "        min: 2015\n",
    "        max: 2025\n",
    "        step: 1\n",
    "    week:\n",
    "        input: numeric\n",
    "        label: The round for analysis\n",
    "        value: None\n",
    "        min: 1\n",
    "        step: 1\n",
    "    scoring_period:\n",
    "        input: numeric\n",
    "        label: Scoring period (Optional)\n",
    "        value: None\n",
    "        min: 1\n",
    "        step: 1\n",
    "---"
   ]
  },
  {
   "cell_type": "code",
   "execution_count": null,
   "metadata": {},
   "outputs": [],
   "source": [
    "swid = \"\"\n",
    "espn_s2 = \"\"\n",
    "league_id = \"\"\n",
    "season = 2023\n",
    "week = 1\n",
    "scoring_period = None"
   ]
  },
  {
   "cell_type": "markdown",
   "metadata": {},
   "source": [
    "# App description\n",
    "\n",
    "This app assesses the teams' performance of a past round. This is based on a league with *Head to Head Each Category* scoring type and 9 stat categories (FG%, FT%, 3PM, REB, AST, STL, BLK, TO, PTS).\n",
    "\n",
    "* It displays the 8 stat categories in addition to total minutes and games played by each team in a single table.\n",
    "* The ranking of the above stat categories, i.e. how each team is ranked for each category. \n",
    "* The score differential for all possible match-ups in the round. It gives a sense of how a team performed compared to the whole league, not just a single match-up.\n",
    "* The percentage wins of all possible match-ups. For example, a team might have won its match-up, but its percentage win is very low. This indicates a weak/lucky team which played against an even weaker opponent. Changes are still required. On the other hand, if a team lost a match-up, but its percentage win is high, it indicates a strong team which happened to play against the strongest opponent. Changes might not be required.\n",
    "\n",
    "Further details on [this Medium blog post](https://g-giasemidis.medium.com/nba-fantasy-analytics-with-python-on-epsn-f03f10a60187).\n",
    "\n",
    "Use this *public* league id `10149515` for trying out app. No need for `swid` and `espn_s2` cookies. This league is based on the same nine aforementioned stats, but uses a *Head to Head Points* scoring system. Here, the league is emulated as if the scoring system was \"Head to Head Each Category\".\n",
    "\n",
    "Report bugs and issues [here](https://github.com/giasemidis/espn-nba-fantasy/issues).\n",
    "\n",
    "\n",
    "## App parameters\n",
    "\n",
    "* `swid`: If your league is public, leave blank. Otherwise: In Safari these cookies can be found by opening the Storage tab of Developer tools (developer tools can be turned on in preferences), and looking under espn.com in the Cookies folder. In Chrome, they can be found in Settings -> Cookies and other site data -> See all cookies and site data, and search for ESPN.\n",
    "* `espn_s2`: If your league is public, leave blank. Otherwise, follow above instructions. **CAUTION:** It is likely the cookie id to contain the `%` character. The corresponding field does not accept such a character. Replace it with a `!` (exclamation mark)\n",
    "* `League ID`: Go to your ESPN league page. The URL contains `leagueId=123455`. Copy the number next to the `leagueid` parameters\n",
    "* `Season`: Leave this to current season, i.e. 2023, unless you want to run analysis of a round of a previous season\n",
    "* `Round`: The round for analysis (a positive integer). It must be a current or past round, as this app assesses the performance of the fantasy teams in completed rounds\n",
    "* `Scoring period`: [OPTIONAL] If provided, data extraction is faster. It is the day since the start of the season. To find the scoring period of the round under consideration, go to \"Scoreboard\" on ESPN, select the matchup round of interest and read the number next to `mSPID=` in the url."
   ]
  },
  {
   "cell_type": "code",
   "execution_count": null,
   "metadata": {},
   "outputs": [],
   "source": [
    "import sys\n",
    "import pandas as pd\n",
    "\n",
    "sys.path.append('../')\n",
    "from src.EspnFantasyRoundAnalysis import EspnFantasyRoundAnalysis\n",
    "from src.utils.app_utils import parameter_checks\n",
    "from src.utils.get_logger import get_logger"
   ]
  },
  {
   "cell_type": "code",
   "execution_count": null,
   "metadata": {},
   "outputs": [],
   "source": [
    "logger = get_logger(__name__)"
   ]
  },
  {
   "cell_type": "code",
   "execution_count": null,
   "metadata": {},
   "outputs": [],
   "source": [
    "logger.info(f\"season {season}\")"
   ]
  },
  {
   "cell_type": "code",
   "execution_count": null,
   "metadata": {},
   "outputs": [],
   "source": [
    "parameter_checks(logger, swid, espn_s2, league_id)"
   ]
  },
  {
   "cell_type": "code",
   "execution_count": null,
   "metadata": {},
   "outputs": [],
   "source": [
    "cookies = {\n",
    "    \"swid\": swid,\n",
    "    \"espn_s2\": espn_s2.replace(\"!\", \"%\")\n",
    "}\n",
    "league_settings = {\n",
    "    \"league_id\": int(league_id),\n",
    "    \"season\": season,\n",
    "}"
   ]
  },
  {
   "cell_type": "code",
   "execution_count": null,
   "metadata": {},
   "outputs": [],
   "source": [
    "espn = EspnFantasyRoundAnalysis(cookies=cookies, league_settings=league_settings, \n",
    "                                round=week, scoring_period=scoring_period)"
   ]
  },
  {
   "cell_type": "markdown",
   "metadata": {},
   "source": [
    "# Stats of the round per Fantasy Team\n",
    "8 basic ESPN fantasy stats, in addition to total minutes and games for the round under consideration."
   ]
  },
  {
   "cell_type": "code",
   "execution_count": null,
   "metadata": {},
   "outputs": [],
   "source": [
    "espn.get_adv_stats_of_round().astype(\"O\")"
   ]
  },
  {
   "cell_type": "markdown",
   "metadata": {},
   "source": [
    "## Ranking index for each statistical category\n",
    "\n",
    "Ranking of the teams for the aforementioned statistical categories"
   ]
  },
  {
   "cell_type": "code",
   "execution_count": null,
   "metadata": {},
   "outputs": [],
   "source": [
    "espn.compute_stats_ranking_of_round()"
   ]
  },
  {
   "cell_type": "markdown",
   "metadata": {},
   "source": [
    "# Head to Head scores for all possible match-ups in the round\n",
    "\n",
    "Score differential for the round under consideration of each team in the league against each other team."
   ]
  },
  {
   "cell_type": "code",
   "execution_count": null,
   "metadata": {},
   "outputs": [],
   "source": [
    "espn.compute_h2h_score_table()"
   ]
  },
  {
   "cell_type": "markdown",
   "metadata": {},
   "source": [
    "## Percentage wins from the H2H matchups\n",
    "\n",
    "Based on the previous head to head scores, what is the percentage wins for each team?"
   ]
  },
  {
   "cell_type": "code",
   "execution_count": null,
   "metadata": {},
   "outputs": [],
   "source": [
    "espn.win_ratio_in_round()"
   ]
  }
 ],
 "metadata": {
  "kernelspec": {
   "display_name": "Python 3 (ipykernel)",
   "language": "python",
   "name": "python3"
  },
  "language_info": {
   "codemirror_mode": {
    "name": "ipython",
    "version": 3
   },
   "file_extension": ".py",
   "mimetype": "text/x-python",
   "name": "python",
   "nbconvert_exporter": "python",
   "pygments_lexer": "ipython3",
   "version": "3.8.5"
  }
 },
 "nbformat": 4,
 "nbformat_minor": 4
}
