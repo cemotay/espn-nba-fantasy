{
 "cells": [
  {
   "cell_type": "raw",
   "metadata": {},
   "source": [
    "---\n",
    "title: Head to head weekly analysis\n",
    "author: Georgios Giasemidis\n",
    "description: Head to head matchup analysis and results simulation\n",
    "show-code: False\n",
    "params:\n",
    "    swid: \n",
    "        input: text\n",
    "        label: swid (cookie)\n",
    "        value: \"\"\n",
    "    espn_s2: \n",
    "        input: text\n",
    "        label: espn_s2 (cookie)\n",
    "        value: \"\"\n",
    "    league_id: \n",
    "        input: text\n",
    "        label: The id of the ESPN league\n",
    "        value: \"\"\n",
    "    season: \n",
    "        input: numeric\n",
    "        label: The season of the league\n",
    "        value: 2022\n",
    "    n_active_players: \n",
    "        input: numeric\n",
    "        label: The number of starters\n",
    "        value: 8\n",
    "    week:\n",
    "        input: numeric\n",
    "        label: The round for analysis\n",
    "        value: 17\n",
    "        min_value: 1\n",
    "    home_team:\n",
    "        input: text\n",
    "        label: Abbreviation of the home team\n",
    "        value: \"\"\n",
    "    away_team:\n",
    "        input: text\n",
    "        label: Abbreviation of the away team\n",
    "        value: \"\"\n",
    "    start_date:\n",
    "        input: text\n",
    "        label: Start date of the match-up (YYYY-MM-DD)\n",
    "        value: \"\"\n",
    "    end_date:\n",
    "        input: text\n",
    "        label: End date of the match-up (YYYY-MM-DD)\n",
    "        value: \"\"\n",
    "    use_current_score:\n",
    "        input: checkbox\n",
    "        label: Use round's stats for the projection\n",
    "        value: False\n",
    "    stat_type_code:\n",
    "        input: select\n",
    "        label: The stat type for the simulation\n",
    "        multi: False\n",
    "        choices: [season average, last 30 days average, last 15 days average, last 7 days average, season's projections, previous season average]\n",
    "        value: season\n",
    "---"
   ]
  },
  {
   "cell_type": "code",
   "execution_count": null,
   "metadata": {},
   "outputs": [],
   "source": [
    "swid = \"\"\n",
    "espn_s2 = \"\"\n",
    "league_id = \"\"\n",
    "season = 2022\n",
    "n_active_players = 8\n",
    "week = 1\n",
    "scoring_period = 7\n",
    "home_team = \"\"\n",
    "away_team = \"\"\n",
    "start_date = \"\"\n",
    "end_date = \"\"\n",
    "use_current_score = False\n",
    "stat_type_code = \"season average\""
   ]
  },
  {
   "cell_type": "code",
   "execution_count": null,
   "metadata": {},
   "outputs": [],
   "source": [
    "STAT_PERIOD_DICT = {\n",
    "    'season average': '002022',\n",
    "    'last 7 days average': '012022',\n",
    "    'last 15 days average': '022022',\n",
    "    'last 30 days average': '032022',\n",
    "    \"season's projections\": '102022',\n",
    "    'previous season average': '002021'\n",
    "}"
   ]
  },
  {
   "cell_type": "code",
   "execution_count": null,
   "metadata": {},
   "outputs": [],
   "source": [
    "import sys\n",
    "import pandas as pd\n",
    "sys.path.append('../')\n",
    "from src.EspnFantasyMatchUp import EspnFantasyMatchUp\n",
    "from src.utils.io_json import read_json"
   ]
  },
  {
   "cell_type": "markdown",
   "metadata": {},
   "source": [
    "# App description\n",
    "\n",
    "This app prepares for an upcoming match-up between two fantasy teams. This is based on a league with *Head to Head Each Category* scoring type and 8 stat categories (FG%, FT%, 3PM, REB, AST, STL, BLK, TO, PTS).\n",
    "\n",
    "* It compares their schedule (number of starter players and unused players) \n",
    "* It compares the teams' historic stats up to this round\n",
    "* Simulates/projects the match-up based on the players' stats and schedule. \n",
    "* Allows for scenarios, such as replace player X with player Y, etc. (feature not currently available, will be added soon)\n",
    "\n",
    "## App parameters\n",
    "\n",
    "* `swid`: If your league is public, leave blank. Otherwise: In Safari these cookies can be found by opening the Storage tab of Developer tools (developer tools can be turned on in preferences), and looking under espn.com in the Cookies folder. In Chrome, they can be found in Settings -> Cookies and other site data -> See all cookies and site data, and search for ESPN.\n",
    "* `espn_s2`: If your league is public, leave blank. Otherwise, follow above instructions. **CAUTION:** It is likely the cookie id to contain the `%` character. The corresponding field does not accept such a character. Replace it with a `!` (exclamation mark)\n",
    "* `League ID`: Go to your ESPN league page. The URL contains `leagueId=123455`. Copy the number next to the `leagueid` parameters\n",
    "* `Season`: Leave this to current season, i.e. 2022, unless you want to run analysis of a round of a previous season\n",
    "* `Starters`: most leagues have 8 startersy. Change this accordingly.\n",
    "* `Round`: The round for analysis. It must be a future round, or a round in progress.\n",
    "* `Home team`: Abbrebiation of the home team\n",
    "* `Away team`: Abbreviation of the away team\n",
    "* `Start date`: The start date of the analysis. If the round hasn't started, it should the start date of the round. If the round is in progress, it should be the current date. The format must be \"YYYY-MM-DD\"\n",
    "* `End date`: The end data of the round. It must be later than the start date. The format must be \"YYYY-MM-DD\"\n",
    "* `Use rounds stats`: If the round is in progress, use the accumulated stats so far to make the projection. I.e., if True, the projection will be the combination of the current stats and the projection stats for the remaining days. If False, the projection will be based only on the simulation results.\n",
    "* `Stat type`: The type of stats for the simulation, i.e. \"Season\" (average season stats), \"Last 30\" (average of the last 30 days stats), etc."
   ]
  },
  {
   "cell_type": "code",
   "execution_count": null,
   "metadata": {},
   "outputs": [],
   "source": [
    "start_date = pd.to_datetime(start_date)\n",
    "end_date = pd.to_datetime(end_date)"
   ]
  },
  {
   "cell_type": "code",
   "execution_count": null,
   "metadata": {},
   "outputs": [],
   "source": [
    "cookies = {\n",
    "    \"swid\": swid,\n",
    "    \"espn_s2\": espn_s2.replace(\"!\", \"%\")\n",
    "}\n",
    "league_settings = {\n",
    "    \"league_id\": int(league_id),\n",
    "    \"season\": season,\n",
    "    \"n_active_players\": n_active_players\n",
    "}"
   ]
  },
  {
   "cell_type": "code",
   "execution_count": null,
   "metadata": {},
   "outputs": [],
   "source": [
    "espn = EspnFantasyMatchUp(\n",
    "    cookies, league_settings,\n",
    "    week, \n",
    "    home_team=home_team, away_team=away_team, \n",
    "    start_date=start_date, end_date=end_date,\n",
    "    stat_type_code=STAT_PERIOD_DICT[stat_type_code]\n",
    ")"
   ]
  },
  {
   "cell_type": "markdown",
   "metadata": {},
   "source": [
    "# Head to head comparison of season historic stats"
   ]
  },
  {
   "cell_type": "code",
   "execution_count": null,
   "metadata": {},
   "outputs": [],
   "source": [
    "espn.h2h_season_stats_comparison()"
   ]
  },
  {
   "cell_type": "markdown",
   "metadata": {},
   "source": [
    "# Compare Schedule (players per day)"
   ]
  },
  {
   "cell_type": "code",
   "execution_count": null,
   "metadata": {},
   "outputs": [],
   "source": [
    "espn.compare_schedules()"
   ]
  },
  {
   "cell_type": "markdown",
   "metadata": {},
   "source": [
    "# Simulate Schedule"
   ]
  },
  {
   "cell_type": "code",
   "execution_count": null,
   "metadata": {},
   "outputs": [],
   "source": [
    "espn.simulation(use_current_score=use_current_score)"
   ]
  },
  {
   "cell_type": "markdown",
   "metadata": {},
   "source": [
    "# Scenarios\n",
    "\n",
    "Add or remove players from the roster of either the home or the away team\n",
    "\n",
    "```\n",
    "home_scn_players={\n",
    "    \"add\": {\n",
    "        <plyaer_name>: [<date1>, <date2>],\n",
    "        <player_name2>: [<date1>]\n",
    "    }, \n",
    "    \"remove\": {\n",
    "        <plyaer_name3>: [<date1>, <date2>],\n",
    "        <player_name4>: [<date1>]\n",
    "    }, \n",
    "}\n",
    "```\n",
    "Similar of the away players, using the `away_scn_players` argument. \n",
    "\n",
    "Leave date list empyt if you want to include all dates in the schedule between `start_date` and `end_date`"
   ]
  },
  {
   "cell_type": "code",
   "execution_count": null,
   "metadata": {},
   "outputs": [],
   "source": [
    "# scn = EspnFantasyMatchUp(\n",
    "#     week, home_team=home_team, away_team=away_team, start_date=pd.to_datetime(\"2022-02-16\"), end_date=end_date,\n",
    "# #     home_scn_players={\"add\": {\"Eric Gordon\": []}, \"remove\": {\"Nicolas Batum\": []}}, \n",
    "#     stat_type_code=\"022022\"\n",
    "# )"
   ]
  },
  {
   "cell_type": "code",
   "execution_count": null,
   "metadata": {},
   "outputs": [],
   "source": [
    "# scn.simulation(use_current_score=True)"
   ]
  },
  {
   "cell_type": "code",
   "execution_count": null,
   "metadata": {},
   "outputs": [],
   "source": []
  }
 ],
 "metadata": {
  "kernelspec": {
   "display_name": "Python 3 (ipykernel)",
   "language": "python",
   "name": "python3"
  },
  "language_info": {
   "codemirror_mode": {
    "name": "ipython",
    "version": 3
   },
   "file_extension": ".py",
   "mimetype": "text/x-python",
   "name": "python",
   "nbconvert_exporter": "python",
   "pygments_lexer": "ipython3",
   "version": "3.8.5"
  }
 },
 "nbformat": 4,
 "nbformat_minor": 4
}
