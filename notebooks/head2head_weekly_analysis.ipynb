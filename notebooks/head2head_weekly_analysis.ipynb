{
 "cells": [
  {
   "cell_type": "code",
   "execution_count": 1,
   "metadata": {},
   "outputs": [],
   "source": [
    "import sys\n",
    "import pandas as pd\n",
    "sys.path.append('../')\n",
    "from src.EspnFantasyMatchUp import EspnFantasyMatchUp\n",
    "from src.utils.io_json import read_json\n",
    "# from src.utils.utils import filter_by_round_stats\n",
    "# from src.utils.utils import simple_matchup_projection"
   ]
  },
  {
   "cell_type": "markdown",
   "metadata": {},
   "source": [
    "# Input variables"
   ]
  },
  {
   "cell_type": "code",
   "execution_count": 2,
   "metadata": {},
   "outputs": [
    {
     "name": "stdout",
     "output_type": "stream",
     "text": [
      "2022-01-30 00:00:00\n"
     ]
    }
   ],
   "source": [
    "week = 15  # Upcoming round number of the fantasy league to project: CHANGE THIS ACCORDINGLY\n",
    "start_date = '2022-01-24'  # start date of the week to project: CHANGE THIS ACCORDINGLY\n",
    "team1 = 'DGGG'  # Abbreviation of fantasy team 1: CHANGE THIS ACCORDINGLY\n",
    "team2 = 'CHAL'  # Abbreviation of fantasy team 2: CHANGE THIS ACCORDINGLY\n",
    "\n",
    "start_date = pd.to_datetime(start_date)\n",
    "end_date = start_date + pd.Timedelta(6, 'D')  # Usually a round lasts for a week, if this is not the case, change end data manually.\n",
    "print(end_date)"
   ]
  },
  {
   "cell_type": "markdown",
   "metadata": {},
   "source": [
    "# Fetch Data"
   ]
  },
  {
   "cell_type": "code",
   "execution_count": 3,
   "metadata": {},
   "outputs": [],
   "source": [
    "settings = read_json('../config/config.json')"
   ]
  },
  {
   "cell_type": "code",
   "execution_count": 4,
   "metadata": {},
   "outputs": [],
   "source": [
    "cookies = settings['cookies']\n",
    "league_settings = settings['league']\n",
    "url_settings = {\n",
    "    'url_fantasy': settings['url']['fantasy_league'],\n",
    "    'url_nba': settings['url']['nba']\n",
    "}"
   ]
  },
  {
   "cell_type": "code",
   "execution_count": 5,
   "metadata": {},
   "outputs": [],
   "source": [
    "espn_api = EspnFantasyMatchUp(\n",
    "    week, team1, team2,\n",
    "    cookies=cookies, **url_settings, **league_settings\n",
    ")"
   ]
  },
  {
   "cell_type": "code",
   "execution_count": 6,
   "metadata": {},
   "outputs": [
    {
     "name": "stdout",
     "output_type": "stream",
     "text": [
      "18 teams participating\n"
     ]
    },
    {
     "ename": "TypeError",
     "evalue": "get_total_team_stats_upto_round() takes 1 positional argument but 2 were given",
     "output_type": "error",
     "traceback": [
      "\u001b[1;31m---------------------------------------------------------------------------\u001b[0m",
      "\u001b[1;31mTypeError\u001b[0m                                 Traceback (most recent call last)",
      "\u001b[1;32m<ipython-input-6-ecebaf7460cc>\u001b[0m in \u001b[0;36m<module>\u001b[1;34m\u001b[0m\n\u001b[1;32m----> 1\u001b[1;33m \u001b[0mespn_api\u001b[0m\u001b[1;33m.\u001b[0m\u001b[0mnaive_matchup_projection\u001b[0m\u001b[1;33m(\u001b[0m\u001b[1;33m)\u001b[0m\u001b[1;33m\u001b[0m\u001b[1;33m\u001b[0m\u001b[0m\n\u001b[0m",
      "\u001b[1;32m~\\Documents\\espn-nba-fantasy\\src\\EspnFantasyMatchUp.py\u001b[0m in \u001b[0;36mnaive_matchup_projection\u001b[1;34m(self)\u001b[0m\n\u001b[0;32m    137\u001b[0m             \u001b[0mfantasy_team_data\u001b[0m \u001b[1;33m=\u001b[0m \u001b[0mself\u001b[0m\u001b[1;33m.\u001b[0m\u001b[0mfantasy_teams_data\u001b[0m\u001b[1;33m\u001b[0m\u001b[1;33m\u001b[0m\u001b[0m\n\u001b[0;32m    138\u001b[0m \u001b[1;33m\u001b[0m\u001b[0m\n\u001b[1;32m--> 139\u001b[1;33m         df = self.get_total_team_stats_upto_round(\n\u001b[0m\u001b[0;32m    140\u001b[0m             \u001b[0mfantasy_team_data\u001b[0m\u001b[1;33m\u001b[0m\u001b[1;33m\u001b[0m\u001b[0m\n\u001b[0;32m    141\u001b[0m         )\n",
      "\u001b[1;31mTypeError\u001b[0m: get_total_team_stats_upto_round() takes 1 positional argument but 2 were given"
     ]
    }
   ],
   "source": [
    "espn_api.naive_matchup_projection()"
   ]
  },
  {
   "cell_type": "code",
   "execution_count": null,
   "metadata": {},
   "outputs": [],
   "source": [
    "teams_data = espn_api.get_teams_data()"
   ]
  },
  {
   "cell_type": "code",
   "execution_count": null,
   "metadata": {},
   "outputs": [],
   "source": [
    "schedule_df = espn_api.get_schedule_data(since=start_date, to=end_date)"
   ]
  },
  {
   "cell_type": "markdown",
   "metadata": {},
   "source": [
    "# Get Weekly Schedule of Match-up\n",
    "Number of games played by the two fantasy teams in the upcoming round, Injured players are excluded, DTD are included."
   ]
  },
  {
   "cell_type": "code",
   "execution_count": null,
   "metadata": {},
   "outputs": [],
   "source": [
    "table, total = espn_api.compare_schedules(teams_data, schedule_df, team1, team2)"
   ]
  },
  {
   "cell_type": "code",
   "execution_count": null,
   "metadata": {},
   "outputs": [],
   "source": [
    "pd.concat((table, total.to_frame('Total').T), axis=0)"
   ]
  },
  {
   "cell_type": "markdown",
   "metadata": {},
   "source": [
    "# Project Upcoming Match-up Stats"
   ]
  },
  {
   "cell_type": "code",
   "execution_count": null,
   "metadata": {},
   "outputs": [],
   "source": [
    "fantasy_teams_current_stats_df = espn_api.make_stat_table(teams_data)"
   ]
  },
  {
   "cell_type": "code",
   "execution_count": null,
   "metadata": {},
   "outputs": [],
   "source": [
    "fantasy_teams_stats_df = espn_api.get_total_team_stats_upto_round(teams_data, week=week)"
   ]
  },
  {
   "cell_type": "markdown",
   "metadata": {},
   "source": [
    "## Naive projection\n",
    "Based on teams' total stats"
   ]
  },
  {
   "cell_type": "code",
   "execution_count": null,
   "metadata": {},
   "outputs": [],
   "source": [
    "simple_matchup_projection(fantasy_teams_stats_df, team1, team2)"
   ]
  },
  {
   "cell_type": "markdown",
   "metadata": {},
   "source": [
    "## Simulation Projection\n",
    "Based on teams' schedule, players and their mean stats."
   ]
  },
  {
   "cell_type": "code",
   "execution_count": null,
   "metadata": {},
   "outputs": [],
   "source": [
    "espn_api.simulation(teams_data, schedule_df, team1, team2)"
   ]
  },
  {
   "cell_type": "markdown",
   "metadata": {},
   "source": [
    "# Scenarios"
   ]
  },
  {
   "cell_type": "code",
   "execution_count": null,
   "metadata": {},
   "outputs": [],
   "source": [
    "stats_per_round = espn_api.get_fantasy_team_stats_per_round(teams_data)\n",
    "stats_current_round = filter_by_round_stats(stats_per_round, week=week, stats=espn_api.simulation_stats)"
   ]
  },
  {
   "cell_type": "code",
   "execution_count": null,
   "metadata": {},
   "outputs": [],
   "source": [
    "espn_api.stat_type_code = '002022'\n",
    "scn_schedule_df = espn_api.get_schedule_data(since=pd.to_datetime('2022-01-30'), to=end_date)"
   ]
  },
  {
   "cell_type": "code",
   "execution_count": null,
   "metadata": {},
   "outputs": [],
   "source": [
    "espn_api.simulation(teams_data, scn_schedule_df, team1, team2, \n",
    "                    current_score=stats_current_round)"
   ]
  },
  {
   "cell_type": "code",
   "execution_count": null,
   "metadata": {},
   "outputs": [],
   "source": [
    "# add = {'home': {'<Name>': [<Empty> or <dates>]}, 'away': \n",
    "# add = {'home': {'DeAndre Jordan': []}, 'away': {}}\n",
    "# add = {'home': {'Rudy Gay': []}, 'away': {}}\n",
    "# add = {\"home\": {'Nicolas Batum': []}, \"away\": {}}\n",
    "add = {'home': {\"Keifer Sykes\": []}, 'away': {}}\n",
    "ignore = {'home': {}, 'away': {}}"
   ]
  },
  {
   "cell_type": "code",
   "execution_count": null,
   "metadata": {},
   "outputs": [],
   "source": [
    "espn_api.simulation(teams_data, scn_schedule_df, team1, team2, current_score=stats_current_round, ignore_players=ignore, add_players=add)"
   ]
  },
  {
   "cell_type": "code",
   "execution_count": null,
   "metadata": {},
   "outputs": [],
   "source": [
    "ign = ['Nicolas Batum', 'Rudy Gay', 'Dorian Finney-Smith']"
   ]
  },
  {
   "cell_type": "code",
   "execution_count": null,
   "metadata": {},
   "outputs": [],
   "source": [
    "df = []\n",
    "stat_type_code = '032022'\n",
    "for i in ign:\n",
    "    ignore = {'home': {i: []}, 'away': {}}\n",
    "    df_tmp = espn_api.simulation(teams_data, scn_schedule_df, team1, team2, \n",
    "                                 current_score=stats_current_round, ignore_players=ignore, add_players=add)\n",
    "    df.append(df_tmp)"
   ]
  },
  {
   "cell_type": "code",
   "execution_count": null,
   "metadata": {},
   "outputs": [],
   "source": [
    "# espn_api.stat_type_code = '002022'\n",
    "stat_type_code = '032022'\n",
    "# df1 = espn_api.simulation(teams_data, scn_schedule_df, team1, team2, \n",
    "#                     current_score=stats_current_round, ignore_players=ignore, add_players=add)"
   ]
  },
  {
   "cell_type": "code",
   "execution_count": null,
   "metadata": {},
   "outputs": [],
   "source": [
    "df = pd.concat(df, axis=1)"
   ]
  },
  {
   "cell_type": "code",
   "execution_count": null,
   "metadata": {},
   "outputs": [],
   "source": [
    "df.columns = pd.MultiIndex.from_product([ign, df_tmp.columns])"
   ]
  },
  {
   "cell_type": "code",
   "execution_count": null,
   "metadata": {},
   "outputs": [],
   "source": [
    "df"
   ]
  },
  {
   "cell_type": "code",
   "execution_count": null,
   "metadata": {},
   "outputs": [],
   "source": []
  }
 ],
 "metadata": {
  "kernelspec": {
   "display_name": "Python 3",
   "language": "python",
   "name": "python3"
  },
  "language_info": {
   "codemirror_mode": {
    "name": "ipython",
    "version": 3
   },
   "file_extension": ".py",
   "mimetype": "text/x-python",
   "name": "python",
   "nbconvert_exporter": "python",
   "pygments_lexer": "ipython3",
   "version": "3.8.5"
  }
 },
 "nbformat": 4,
 "nbformat_minor": 4
}
