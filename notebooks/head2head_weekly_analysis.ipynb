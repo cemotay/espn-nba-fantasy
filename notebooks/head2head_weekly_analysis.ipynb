{
 "cells": [
  {
   "cell_type": "code",
   "execution_count": null,
   "metadata": {},
   "outputs": [],
   "source": [
    "import sys\n",
    "import pandas as pd\n",
    "sys.path.append('../')\n",
    "from src.EspnFantasyMatchUp import EspnFantasyMatchUp\n",
    "from src.utils.io_json import read_json"
   ]
  },
  {
   "cell_type": "markdown",
   "metadata": {},
   "source": [
    "# Input variables"
   ]
  },
  {
   "cell_type": "code",
   "execution_count": null,
   "metadata": {},
   "outputs": [],
   "source": [
    "week = 17  # Upcoming round number of the fantasy league to project: CHANGE THIS ACCORDINGLY\n",
    "start_date = '2022-02-07'  # start date of the week to project: CHANGE THIS ACCORDINGLY\n",
    "team1 = 'DGGG'  # Abbreviation of fantasy team 1: CHANGE THIS ACCORDINGLY\n",
    "team2 = 'KAPS'  # Abbreviation of fantasy team 2: CHANGE THIS ACCORDINGLY\n",
    "\n",
    "start_date = pd.to_datetime(start_date)\n",
    "end_date = start_date + pd.Timedelta(6, 'D')  # Usually a round lasts for a week, if this is not the case, change end data manually.\n",
    "print(end_date)"
   ]
  },
  {
   "cell_type": "markdown",
   "metadata": {},
   "source": [
    "# Fetch Data"
   ]
  },
  {
   "cell_type": "code",
   "execution_count": null,
   "metadata": {},
   "outputs": [],
   "source": [
    "espn_api = EspnFantasyMatchUp(\n",
    "    week, team1, team2, start_date=start_date, end_date=end_date\n",
    ")"
   ]
  },
  {
   "cell_type": "markdown",
   "metadata": {},
   "source": [
    "# Head to head comparison of season historic stats"
   ]
  },
  {
   "cell_type": "code",
   "execution_count": null,
   "metadata": {},
   "outputs": [],
   "source": [
    "espn_api.h2h_season_stats_comparison()"
   ]
  },
  {
   "cell_type": "markdown",
   "metadata": {},
   "source": [
    "# Compare Schedule (players per day)"
   ]
  },
  {
   "cell_type": "code",
   "execution_count": null,
   "metadata": {},
   "outputs": [],
   "source": [
    "espn_api.compare_schedules()"
   ]
  },
  {
   "cell_type": "markdown",
   "metadata": {},
   "source": [
    "# Simulate Schedule"
   ]
  },
  {
   "cell_type": "code",
   "execution_count": null,
   "metadata": {},
   "outputs": [],
   "source": [
    "espn_api.simulation(use_current_score=True)"
   ]
  },
  {
   "cell_type": "markdown",
   "metadata": {},
   "source": [
    "# Scenarios\n",
    "\n",
    "Add or remove players from the roster of either the home or the away team\n",
    "\n",
    "```\n",
    "home_scn_players={\n",
    "    \"add\": {\n",
    "        <plyaer_name>: [<date1>, <date2>],\n",
    "        <player_name2>: [<date1>]\n",
    "    }, \n",
    "    \"remove\": {\n",
    "        <plyaer_name3>: [<date1>, <date2>],\n",
    "        <player_name4>: [<date1>]\n",
    "    }, \n",
    "}\n",
    "```\n",
    "Similar of the away players, using the `away_scn_players` argument. \n",
    "\n",
    "Leave date list empyt if you want to include all dates in the schedule between `start_data` and `end_date`"
   ]
  },
  {
   "cell_type": "code",
   "execution_count": null,
   "metadata": {},
   "outputs": [],
   "source": [
    "scn = EspnFantasyMatchUp(\n",
    "    week, team1, team2, start_date=\"2022-02-12\", end_date=end_date,\n",
    "    cookies=cookies, **url_settings, **league_settings,\n",
    "    home_scn_players={\"add\": {\"Delon Wright\": [\"2022-02-13\"]}, \"remove\": {\"Nikola Jokic\": [\"2022-02-12\"]}}\n",
    ")"
   ]
  },
  {
   "cell_type": "code",
   "execution_count": null,
   "metadata": {},
   "outputs": [],
   "source": [
    "scn.simulation(use_current_score=True)"
   ]
  }
 ],
 "metadata": {
  "kernelspec": {
   "display_name": "Python 3",
   "language": "python",
   "name": "python3"
  },
  "language_info": {
   "codemirror_mode": {
    "name": "ipython",
    "version": 3
   },
   "file_extension": ".py",
   "mimetype": "text/x-python",
   "name": "python",
   "nbconvert_exporter": "python",
   "pygments_lexer": "ipython3",
   "version": "3.8.5"
  }
 },
 "nbformat": 4,
 "nbformat_minor": 4
}
