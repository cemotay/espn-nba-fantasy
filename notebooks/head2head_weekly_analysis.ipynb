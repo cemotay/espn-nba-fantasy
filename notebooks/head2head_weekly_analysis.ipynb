{
 "cells": [
  {
   "cell_type": "raw",
   "metadata": {},
   "source": [
    "---\n",
    "title: Head to head weekly analysis\n",
    "author: Georgios Giasemidis\n",
    "description: Head to head matchup analysis and results simulation\n",
    "show-code: False\n",
    "params:\n",
    "    swid: \n",
    "        input: text\n",
    "        label: swid (cookie)\n",
    "        value: \"\"\n",
    "    espn_s2: \n",
    "        input: text\n",
    "        label: espn_s2 (cookie)\n",
    "        value: \"\"\n",
    "    league_id: \n",
    "        input: text\n",
    "        label: The id of the ESPN league\n",
    "        value: \"\"\n",
    "    season: \n",
    "        input: numeric\n",
    "        label: The season of the league\n",
    "        value: 2022\n",
    "    n_active_players: \n",
    "        input: numeric\n",
    "        label: The number of playing players\n",
    "        value: 8\n",
    "    week:\n",
    "        input: numeric\n",
    "        label: The round for analysis\n",
    "        value: 17\n",
    "        min_value: 1\n",
    "    home_team:\n",
    "        input: text\n",
    "        label: Abbreviation of the home team\n",
    "        value: \"\"\n",
    "    away_team:\n",
    "        input: text\n",
    "        label: Abbreviation of the away team\n",
    "        value: \"\"\n",
    "    start_date:\n",
    "        input: text\n",
    "        label: Start date of the match-up (YYYY-MM-DD)\n",
    "        value: \"\"\n",
    "    end_date:\n",
    "        input: text\n",
    "        label: End date of the match-up (YYYY-MM-DD)\n",
    "        value: \"\"\n",
    "---"
   ]
  },
  {
   "cell_type": "code",
   "execution_count": null,
   "metadata": {},
   "outputs": [],
   "source": [
    "swid = \"\"\n",
    "espn_s2 = \"\"\n",
    "league_id = \"\"\n",
    "season = 2022\n",
    "n_active_players = 8\n",
    "week = 1\n",
    "scoring_period = 7\n",
    "home_team = \"\"\n",
    "away_team = \"\"\n",
    "start_date = \"\"\n",
    "end_date = \"\""
   ]
  },
  {
   "cell_type": "code",
   "execution_count": null,
   "metadata": {},
   "outputs": [],
   "source": [
    "import sys\n",
    "import pandas as pd\n",
    "sys.path.append('../')\n",
    "from src.EspnFantasyMatchUp import EspnFantasyMatchUp\n",
    "from src.utils.io_json import read_json"
   ]
  },
  {
   "cell_type": "markdown",
   "metadata": {},
   "source": [
    "# Input Parameters\n",
    "\n",
    "How to find your league's parameters:\n",
    "* `swid`: If your league is public, leave blank. Otherwise: In Safari these cookies can be found by opening the Storage tab of Developer tools (developer tools can be turned on in preferences), and looking under espn.com in the Cookies folder. In Chrome, they can be found in Settings -> Cookies and other site data -> See all cookies and site data, and search for ESPN.\n",
    "* `espn_s2`: If your league is public, leave blank. Otherwise, follow above instructions\n",
    "* `league_id`: Go to your ESPN league page. The URL contains `leagueId=123455`. Copy the number next to the `leagueid` parameters\n",
    "* `season`: Leave this to current season, i.e. 2022, unless you want to run analysis of a round of a previous season\n",
    "* `n_active_players`: most leagues have 8 players playing each day. Change this accordingly."
   ]
  },
  {
   "cell_type": "code",
   "execution_count": null,
   "metadata": {},
   "outputs": [],
   "source": [
    "start_date = pd.to_datetime(start_date)\n",
    "end_date = pd.to_datetime(end_date)"
   ]
  },
  {
   "cell_type": "code",
   "execution_count": null,
   "metadata": {},
   "outputs": [],
   "source": [
    "cookies = {\n",
    "    \"swid\": swid,\n",
    "    \"espn_s2\": espn_s2.replace(\"!\", \"%\")\n",
    "}\n",
    "league_settings = {\n",
    "    \"league_id\": int(league_id),\n",
    "    \"season\": season,\n",
    "    \"n_active_players\": n_active_players\n",
    "}"
   ]
  },
  {
   "cell_type": "code",
   "execution_count": null,
   "metadata": {},
   "outputs": [],
   "source": [
    "espn = EspnFantasyMatchUp(\n",
    "    cookies, league_settings,\n",
    "    week, home_team=home_team, away_team=away_team, start_date=start_date, end_date=end_date,\n",
    "    stat_type_code=\"002022\"\n",
    ")"
   ]
  },
  {
   "cell_type": "markdown",
   "metadata": {},
   "source": [
    "# Head to head comparison of season historic stats"
   ]
  },
  {
   "cell_type": "code",
   "execution_count": null,
   "metadata": {},
   "outputs": [],
   "source": [
    "espn.h2h_season_stats_comparison()"
   ]
  },
  {
   "cell_type": "markdown",
   "metadata": {},
   "source": [
    "# Compare Schedule (players per day)"
   ]
  },
  {
   "cell_type": "code",
   "execution_count": null,
   "metadata": {},
   "outputs": [],
   "source": [
    "espn.compare_schedules()"
   ]
  },
  {
   "cell_type": "markdown",
   "metadata": {},
   "source": [
    "# Simulate Schedule"
   ]
  },
  {
   "cell_type": "code",
   "execution_count": null,
   "metadata": {},
   "outputs": [],
   "source": [
    "espn.simulation(use_current_score=True)"
   ]
  },
  {
   "cell_type": "markdown",
   "metadata": {},
   "source": [
    "# Scenarios\n",
    "\n",
    "Add or remove players from the roster of either the home or the away team\n",
    "\n",
    "```\n",
    "home_scn_players={\n",
    "    \"add\": {\n",
    "        <plyaer_name>: [<date1>, <date2>],\n",
    "        <player_name2>: [<date1>]\n",
    "    }, \n",
    "    \"remove\": {\n",
    "        <plyaer_name3>: [<date1>, <date2>],\n",
    "        <player_name4>: [<date1>]\n",
    "    }, \n",
    "}\n",
    "```\n",
    "Similar of the away players, using the `away_scn_players` argument. \n",
    "\n",
    "Leave date list empyt if you want to include all dates in the schedule between `start_data` and `end_date`"
   ]
  },
  {
   "cell_type": "code",
   "execution_count": null,
   "metadata": {},
   "outputs": [],
   "source": [
    "# scn = EspnFantasyMatchUp(\n",
    "#     week, home_team=home_team, away_team=away_team, start_date=pd.to_datetime(\"2022-02-16\"), end_date=end_date,\n",
    "# #     home_scn_players={\"add\": {\"Eric Gordon\": []}, \"remove\": {\"Nicolas Batum\": []}}, \n",
    "#     stat_type_code=\"022022\"\n",
    "# )"
   ]
  },
  {
   "cell_type": "code",
   "execution_count": null,
   "metadata": {},
   "outputs": [],
   "source": [
    "# scn.simulation(use_current_score=True)"
   ]
  },
  {
   "cell_type": "code",
   "execution_count": null,
   "metadata": {},
   "outputs": [],
   "source": []
  }
 ],
 "metadata": {
  "kernelspec": {
   "display_name": "Python 3 (ipykernel)",
   "language": "python",
   "name": "python3"
  },
  "language_info": {
   "codemirror_mode": {
    "name": "ipython",
    "version": 3
   },
   "file_extension": ".py",
   "mimetype": "text/x-python",
   "name": "python",
   "nbconvert_exporter": "python",
   "pygments_lexer": "ipython3",
   "version": "3.8.5"
  }
 },
 "nbformat": 4,
 "nbformat_minor": 4
}
