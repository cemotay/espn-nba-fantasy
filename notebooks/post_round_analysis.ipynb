{
 "cells": [
  {
   "cell_type": "code",
   "execution_count": null,
   "metadata": {},
   "outputs": [],
   "source": [
    "import sys\n",
    "import pandas as pd\n",
    "import numpy as np\n",
    "sys.path.append('../')\n",
    "from src.EspnFantasyLeague import EspnFantasyLeague\n",
    "from src.utils.io_json import read_json\n",
    "from src.utils.utils import filter_by_round_stats, fantasy_team_ranking_per_stat\n",
    "from src.utils.utils import h2h_score_matrix, aggregate_h2h_scores"
   ]
  },
  {
   "cell_type": "markdown",
   "metadata": {},
   "source": [
    "# Input variables"
   ]
  },
  {
   "cell_type": "code",
   "execution_count": null,
   "metadata": {},
   "outputs": [],
   "source": [
    "week = 8  # Change this to round/week of the fantasy league that you want the analysis for.\n",
    "scoring_period = 55  # change this to the day of the fantasy league since the start. This is roughly 7*`week`.\n",
    "# Warning: If you get a matchup period, see message starting with \"Processing matchup period:\" below other than that specified in the `week` above, \n",
    "# reconsider the `scoring_period` variable again."
   ]
  },
  {
   "cell_type": "markdown",
   "metadata": {},
   "source": [
    "# Fetch Data"
   ]
  },
  {
   "cell_type": "code",
   "execution_count": null,
   "metadata": {},
   "outputs": [],
   "source": [
    "settings = read_json('../config/config.json')"
   ]
  },
  {
   "cell_type": "code",
   "execution_count": null,
   "metadata": {},
   "outputs": [],
   "source": [
    "cookies = settings['cookies']\n",
    "league_settings = settings['league']\n",
    "url_settings = {\n",
    "    'url_fantasy': settings['url']['fantasy_league'],\n",
    "    'url_nba': settings['url']['nba']\n",
    "}"
   ]
  },
  {
   "cell_type": "code",
   "execution_count": null,
   "metadata": {},
   "outputs": [],
   "source": [
    "espn_api = EspnFantasyLeague(cookies=cookies,\n",
    "                             **url_settings,\n",
    "                             **league_settings)\n",
    "stats = espn_api.fantasy_stats"
   ]
  },
  {
   "cell_type": "code",
   "execution_count": null,
   "metadata": {},
   "outputs": [],
   "source": [
    "teams_data = espn_api.get_teams_data()"
   ]
  },
  {
   "cell_type": "code",
   "execution_count": null,
   "metadata": {},
   "outputs": [],
   "source": [
    "stats_per_round = espn_api.get_fantasy_team_stats_per_round(teams_data)"
   ]
  },
  {
   "cell_type": "code",
   "execution_count": null,
   "metadata": {},
   "outputs": [],
   "source": [
    "stats_latest_round = filter_by_round_stats(stats_per_round, week=week, stats=stats)"
   ]
  },
  {
   "cell_type": "code",
   "execution_count": null,
   "metadata": {},
   "outputs": [],
   "source": [
    "mins_games_df = espn_api.get_adv_stats_per_fantasy_team(endpoints=['mMatchup', 'mMatchupScore'], \n",
    "                                                        scoring_period=scoring_period)"
   ]
  },
  {
   "cell_type": "markdown",
   "metadata": {},
   "source": [
    "# Stats of the round per Fantasy Team"
   ]
  },
  {
   "cell_type": "code",
   "execution_count": null,
   "metadata": {},
   "outputs": [],
   "source": [
    "stats_mins_games_latest_round = stats_latest_round.merge(mins_games_df, left_index=True, right_index=True)"
   ]
  },
  {
   "cell_type": "code",
   "execution_count": null,
   "metadata": {},
   "outputs": [],
   "source": [
    "stats_mins_games_latest_round.rename(index=espn_api.team_abbr_name_dict)"
   ]
  },
  {
   "cell_type": "markdown",
   "metadata": {},
   "source": [
    "## Ranking index for each statistical category"
   ]
  },
  {
   "cell_type": "code",
   "execution_count": null,
   "metadata": {},
   "outputs": [],
   "source": [
    "stats_ranking_latest_round = fantasy_team_ranking_per_stat(stats_mins_games_latest_round)"
   ]
  },
  {
   "cell_type": "code",
   "execution_count": null,
   "metadata": {},
   "outputs": [],
   "source": [
    "stats_ranking_latest_round.rename(index=espn_api.team_abbr_name_dict)"
   ]
  },
  {
   "cell_type": "markdown",
   "metadata": {},
   "source": [
    "# Head to Head scores for all possible match-ups in the specified round"
   ]
  },
  {
   "cell_type": "code",
   "execution_count": null,
   "metadata": {},
   "outputs": [],
   "source": [
    "score_matrix_df = h2h_score_matrix(stats_latest_round)"
   ]
  },
  {
   "cell_type": "code",
   "execution_count": null,
   "metadata": {},
   "outputs": [],
   "source": [
    "aggr_round_scores = aggregate_h2h_scores(score_matrix_df)"
   ]
  },
  {
   "cell_type": "code",
   "execution_count": null,
   "metadata": {},
   "outputs": [],
   "source": [
    "score_matrix_df"
   ]
  },
  {
   "cell_type": "markdown",
   "metadata": {},
   "source": [
    "## Percentage wins from the H2H matchups"
   ]
  },
  {
   "cell_type": "code",
   "execution_count": null,
   "metadata": {},
   "outputs": [],
   "source": [
    "aggr_round_scores.rename(index=espn_api.team_abbr_name_dict).sort_values('Wins', ascending=False)"
   ]
  }
 ],
 "metadata": {
  "kernelspec": {
   "display_name": "Python 3",
   "language": "python",
   "name": "python3"
  },
  "language_info": {
   "codemirror_mode": {
    "name": "ipython",
    "version": 3
   },
   "file_extension": ".py",
   "mimetype": "text/x-python",
   "name": "python",
   "nbconvert_exporter": "python",
   "pygments_lexer": "ipython3",
   "version": "3.8.5"
  }
 },
 "nbformat": 4,
 "nbformat_minor": 4
}
