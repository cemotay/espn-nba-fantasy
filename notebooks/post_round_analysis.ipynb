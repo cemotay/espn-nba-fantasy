{
 "cells": [
  {
   "cell_type": "raw",
   "metadata": {},
   "source": [
    "---\n",
    "title: Post round analysis\n",
    "description: Post round analysis of a league\n",
    "show-code: False\n",
    "params:\n",
    "    week:\n",
    "        input: numeric\n",
    "        label: The round for analysis\n",
    "        value: 17\n",
    "        min_value: 1\n",
    "    scoring_period:\n",
    "        input: numeric\n",
    "        label: Scoring period\n",
    "        value: 118\n",
    "        min_value: 1\n",
    "---"
   ]
  },
  {
   "cell_type": "code",
   "execution_count": null,
   "metadata": {},
   "outputs": [],
   "source": [
    "import sys\n",
    "import pandas as pd\n",
    "sys.path.append('../')\n",
    "from src.EspnFantasyRoundAnalysis import EspnFantasyRoundAnalysis\n",
    "from src.utils.io_json import read_json"
   ]
  },
  {
   "cell_type": "code",
   "execution_count": null,
   "metadata": {},
   "outputs": [],
   "source": [
    "# week = 14\n",
    "# scoring_period = 47"
   ]
  },
  {
   "cell_type": "markdown",
   "metadata": {},
   "source": [
    "# Fetch Data"
   ]
  },
  {
   "cell_type": "code",
   "execution_count": null,
   "metadata": {},
   "outputs": [],
   "source": [
    "espn = EspnFantasyRoundAnalysis(round=week, scoring_period=scoring_period)"
   ]
  },
  {
   "cell_type": "markdown",
   "metadata": {},
   "source": [
    "# Stats of the round per Fantasy Team\n",
    "8 basic ESPN fantasy stats, in addition to total minutes and games for the round under consideration.\n",
    "\n",
    "**Important:** If matchup round reported in the log does not match the input round, adjust either the scoring period or the round of analysis"
   ]
  },
  {
   "cell_type": "code",
   "execution_count": null,
   "metadata": {},
   "outputs": [],
   "source": [
    "espn.get_adv_stats_of_round()"
   ]
  },
  {
   "cell_type": "markdown",
   "metadata": {},
   "source": [
    "## Ranking index for each statistical category\n",
    "\n",
    "Ranking of the teams for the aforementioned statistical categories"
   ]
  },
  {
   "cell_type": "code",
   "execution_count": null,
   "metadata": {},
   "outputs": [],
   "source": [
    "espn.compute_stats_ranking_of_round()"
   ]
  },
  {
   "cell_type": "markdown",
   "metadata": {},
   "source": [
    "# Head to Head scores for all possible match-ups in the round\n",
    "\n",
    "Score differential for the round under consideration of each team in the league against each other team."
   ]
  },
  {
   "cell_type": "code",
   "execution_count": null,
   "metadata": {},
   "outputs": [],
   "source": [
    "espn.compute_h2h_score_table()"
   ]
  },
  {
   "cell_type": "markdown",
   "metadata": {},
   "source": [
    "## Percentage wins from the H2H matchups\n",
    "\n",
    "Based on the previous head to head scores, what is the percentage wins for each team?"
   ]
  },
  {
   "cell_type": "code",
   "execution_count": null,
   "metadata": {},
   "outputs": [],
   "source": [
    "espn.win_ratio_in_round()"
   ]
  }
 ],
 "metadata": {
  "kernelspec": {
   "display_name": "Python 3",
   "language": "python",
   "name": "python3"
  },
  "language_info": {
   "codemirror_mode": {
    "name": "ipython",
    "version": 3
   },
   "file_extension": ".py",
   "mimetype": "text/x-python",
   "name": "python",
   "nbconvert_exporter": "python",
   "pygments_lexer": "ipython3",
   "version": "3.8.5"
  }
 },
 "nbformat": 4,
 "nbformat_minor": 4
}
