{
 "cells": [
  {
   "cell_type": "raw",
   "metadata": {},
   "source": [
    "---\n",
    "title: Post round analysis\n",
    "author: Georgios Giasemidis\n",
    "description: Post round analysis of a league\n",
    "show-code: False\n",
    "params:\n",
    "    swid: \n",
    "        input: text\n",
    "        label: swid (cookie)\n",
    "        value: \"\"\n",
    "    espn_s2: \n",
    "        input: text\n",
    "        label: espn_s2 (cookie)\n",
    "        value: \"\"\n",
    "    league_id: \n",
    "        input: text\n",
    "        label: The id of the ESPN league\n",
    "        value: \"\"\n",
    "    season: \n",
    "        input: numeric\n",
    "        label: The season of the league\n",
    "        value: 2022\n",
    "    n_active_players: \n",
    "        input: numeric\n",
    "        label: The number of playing players\n",
    "        value: 8\n",
    "    week:\n",
    "        input: numeric\n",
    "        label: The round for analysis\n",
    "        value: 17\n",
    "        min_value: 1\n",
    "    scoring_period:\n",
    "        input: numeric\n",
    "        label: Scoring period\n",
    "        value: 118\n",
    "        min_value: 1\n",
    "---"
   ]
  },
  {
   "cell_type": "code",
   "execution_count": null,
   "metadata": {},
   "outputs": [],
   "source": [
    "swid = \"\"\n",
    "espn_s2 = \"\"\n",
    "league_id = \"\"\n",
    "season = 2022\n",
    "n_active_players = 8\n",
    "week = 1\n",
    "scoring_period = 7"
   ]
  },
  {
   "cell_type": "code",
   "execution_count": null,
   "metadata": {},
   "outputs": [],
   "source": [
    "import sys\n",
    "import pandas as pd\n",
    "sys.path.append('../')\n",
    "from src.EspnFantasyRoundAnalysis import EspnFantasyRoundAnalysis\n",
    "from src.utils.io_json import read_json"
   ]
  },
  {
   "cell_type": "markdown",
   "metadata": {},
   "source": [
    "# Input Parameters\n",
    "\n",
    "How to find your league's parameters:\n",
    "\n",
    "* `swid`: If your league is public, leave blank. Otherwise: In Safari these cookies can be found by opening the Storage tab of Developer tools (developer tools can be turned on in preferences), and looking under espn.com in the Cookies folder. In Chrome, they can be found in Settings -> Cookies and other site data -> See all cookies and site data, and search for ESPN.\n",
    "* `espn_s2`: If your league is public, leave blank. Otherwise, follow above instructions. **CAUTION:** It is likely the cookie id to contain the `%` character. The corresponding field does not accept such a character. Replace it with a `!` (exclamation mark)\n",
    "* `league_id`: Go to your ESPN league page. The URL contains `leagueId=123455`. Copy the number next to the `leagueid` parameters\n",
    "* `season`: Leave this to current season, i.e. 2022, unless you want to run analysis of a round of a previous season\n",
    "* `n_active_players`: most leagues have 8 players playing each day. Change this accordingly.\n"
   ]
  },
  {
   "cell_type": "code",
   "execution_count": null,
   "metadata": {},
   "outputs": [],
   "source": [
    "cookies = {\n",
    "    \"swid\": swid,\n",
    "    \"espn_s2\": espn_s2.replace(\"!\", \"%\")\n",
    "}\n",
    "league_settings = {\n",
    "    \"league_id\": int(league_id),\n",
    "    \"season\": season,\n",
    "    \"n_active_players\": n_active_players,\n",
    "}"
   ]
  },
  {
   "cell_type": "code",
   "execution_count": null,
   "metadata": {},
   "outputs": [],
   "source": [
    "espn = EspnFantasyRoundAnalysis(cookies=cookies, league_settings=league_settings, \n",
    "                                round=week, scoring_period=scoring_period)"
   ]
  },
  {
   "cell_type": "markdown",
   "metadata": {},
   "source": [
    "# Stats of the round per Fantasy Team\n",
    "8 basic ESPN fantasy stats, in addition to total minutes and games for the round under consideration.\n",
    "\n",
    "**Important:** If matchup round reported in the log does not match the input round, adjust either the scoring period or the round of analysis"
   ]
  },
  {
   "cell_type": "code",
   "execution_count": null,
   "metadata": {},
   "outputs": [],
   "source": [
    "espn.get_adv_stats_of_round()"
   ]
  },
  {
   "cell_type": "markdown",
   "metadata": {},
   "source": [
    "## Ranking index for each statistical category\n",
    "\n",
    "Ranking of the teams for the aforementioned statistical categories"
   ]
  },
  {
   "cell_type": "code",
   "execution_count": null,
   "metadata": {},
   "outputs": [],
   "source": [
    "espn.compute_stats_ranking_of_round()"
   ]
  },
  {
   "cell_type": "markdown",
   "metadata": {},
   "source": [
    "# Head to Head scores for all possible match-ups in the round\n",
    "\n",
    "Score differential for the round under consideration of each team in the league against each other team."
   ]
  },
  {
   "cell_type": "code",
   "execution_count": null,
   "metadata": {},
   "outputs": [],
   "source": [
    "espn.compute_h2h_score_table()"
   ]
  },
  {
   "cell_type": "markdown",
   "metadata": {},
   "source": [
    "## Percentage wins from the H2H matchups\n",
    "\n",
    "Based on the previous head to head scores, what is the percentage wins for each team?"
   ]
  },
  {
   "cell_type": "code",
   "execution_count": null,
   "metadata": {},
   "outputs": [],
   "source": [
    "espn.win_ratio_in_round()"
   ]
  },
  {
   "cell_type": "code",
   "execution_count": null,
   "metadata": {},
   "outputs": [],
   "source": []
  }
 ],
 "metadata": {
  "kernelspec": {
   "display_name": "Python 3 (ipykernel)",
   "language": "python",
   "name": "python3"
  },
  "language_info": {
   "codemirror_mode": {
    "name": "ipython",
    "version": 3
   },
   "file_extension": ".py",
   "mimetype": "text/x-python",
   "name": "python",
   "nbconvert_exporter": "python",
   "pygments_lexer": "ipython3",
   "version": "3.8.5"
  }
 },
 "nbformat": 4,
 "nbformat_minor": 4
}
