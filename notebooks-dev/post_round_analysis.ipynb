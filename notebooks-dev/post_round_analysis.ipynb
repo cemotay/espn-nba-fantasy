{
 "cells": [
  {
   "cell_type": "markdown",
   "metadata": {},
   "source": [
    "# App description\n",
    "\n",
    "This app assesses the teams' performance of a past round. This is based on a league with *Head to Head Each Category* scoring type and 8 stat categories (FG%, FT%, 3PM, REB, AST, STL, BLK, TO, PTS).\n",
    "\n",
    "* It displays the 8 stat categories in addition to total minutes and games played by each team in a single table.\n",
    "* The ranking of the above stat categories, i.e. how each team is ranked for each category. \n",
    "* The score differential for all possible match-ups in the round. It gives a sense of how a team performed compared to the whole league, not just a single match-up.\n",
    "* The percentage wins of all possible match-ups. For example, a team might have won its match-up, but its percentage win is very low. This indicates a weak/lucky team which played against an even weaker opponent. Changes are still required. On the other hand, if a team lost a match-up, but its percentage win is high, it indicates a strong team which happened to play against the strongest opponent. Changes might not be required.\n",
    "\n",
    "Further details on [this Medium blog post](https://g-giasemidis.medium.com/nba-fantasy-analytics-with-python-on-epsn-f03f10a60187)."
   ]
  },
  {
   "cell_type": "code",
   "execution_count": null,
   "metadata": {},
   "outputs": [],
   "source": [
    "import sys\n",
    "import pandas as pd\n",
    "\n",
    "sys.path.append('../')\n",
    "from src.EspnFantasyRoundAnalysis import EspnFantasyRoundAnalysis\n",
    "from src.utils.io_json import read_json"
   ]
  },
  {
   "cell_type": "code",
   "execution_count": null,
   "metadata": {},
   "outputs": [],
   "source": [
    "config = read_json(\"../config/config.json\")"
   ]
  },
  {
   "cell_type": "code",
   "execution_count": null,
   "metadata": {},
   "outputs": [],
   "source": [
    "cookies = config['cookies']\n",
    "league_settings = config['league']"
   ]
  },
  {
   "cell_type": "code",
   "execution_count": null,
   "metadata": {},
   "outputs": [],
   "source": [
    "week = 3\n",
    "scoring_period = None"
   ]
  },
  {
   "cell_type": "code",
   "execution_count": null,
   "metadata": {},
   "outputs": [],
   "source": [
    "espn = EspnFantasyRoundAnalysis(cookies=cookies, league_settings=league_settings, \n",
    "                                round=week, scoring_period=scoring_period)"
   ]
  },
  {
   "cell_type": "markdown",
   "metadata": {},
   "source": [
    "# Stats of the round per Fantasy Team\n",
    "8 basic ESPN fantasy stats, in addition to total minutes and games for the round under consideration."
   ]
  },
  {
   "cell_type": "code",
   "execution_count": null,
   "metadata": {},
   "outputs": [],
   "source": [
    "espn.get_adv_stats_of_round()"
   ]
  },
  {
   "cell_type": "markdown",
   "metadata": {},
   "source": [
    "## Ranking index for each statistical category\n",
    "\n",
    "Ranking of the teams for the aforementioned statistical categories"
   ]
  },
  {
   "cell_type": "code",
   "execution_count": null,
   "metadata": {},
   "outputs": [],
   "source": [
    "espn.compute_stats_ranking_of_round()"
   ]
  },
  {
   "cell_type": "markdown",
   "metadata": {},
   "source": [
    "# Head to Head scores for all possible match-ups in the round\n",
    "\n",
    "Score differential for the round under consideration of each team in the league against each other team."
   ]
  },
  {
   "cell_type": "code",
   "execution_count": null,
   "metadata": {},
   "outputs": [],
   "source": [
    "espn.compute_h2h_score_table()"
   ]
  },
  {
   "cell_type": "markdown",
   "metadata": {},
   "source": [
    "## Percentage wins from the H2H matchups\n",
    "\n",
    "Based on the previous head to head scores, what is the percentage wins for each team?"
   ]
  },
  {
   "cell_type": "code",
   "execution_count": null,
   "metadata": {},
   "outputs": [],
   "source": [
    "espn.win_ratio_in_round()"
   ]
  }
 ],
 "metadata": {
  "kernelspec": {
   "display_name": "Python 3 (ipykernel)",
   "language": "python",
   "name": "python3"
  },
  "language_info": {
   "codemirror_mode": {
    "name": "ipython",
    "version": 3
   },
   "file_extension": ".py",
   "mimetype": "text/x-python",
   "name": "python",
   "nbconvert_exporter": "python",
   "pygments_lexer": "ipython3",
   "version": "3.8.5"
  }
 },
 "nbformat": 4,
 "nbformat_minor": 4
}
