{
 "cells": [
  {
   "cell_type": "markdown",
   "metadata": {},
   "source": [
    "# App description\n",
    "\n",
    "This app prepares for an upcoming match-up between two fantasy teams. This is based on a league with *Head to Head Each Category* scoring type and 8 stat categories (FG%, FT%, 3PM, REB, AST, STL, BLK, TO, PTS).\n",
    "\n",
    "* It compares their schedule (number of starter players and unused players) \n",
    "* It compares the teams' historic stats up to this round\n",
    "* Simulates/projects the match-up based on the players' stats and schedule. \n",
    "* Allows for scenarios, such as replace player X with player Y, etc. (feature not currently available, will be added soon)\n",
    "\n",
    "\n",
    "Further details on [this Medium blog post](https://g-giasemidis.medium.com/nba-fantasy-analytics-with-python-on-epsn-f03f10a60187)."
   ]
  },
  {
   "cell_type": "code",
   "execution_count": 1,
   "metadata": {},
   "outputs": [],
   "source": [
    "import sys\n",
    "import pandas as pd\n",
    "sys.path.append('../')\n",
    "from src.EspnFantasyMatchUp import EspnFantasyMatchUp\n",
    "from src.utils.io_json import read_json"
   ]
  },
  {
   "cell_type": "code",
   "execution_count": 2,
   "metadata": {},
   "outputs": [],
   "source": [
    "config = read_json(\"../config/config.json\")\n",
    "\n",
    "STAT_PERIOD_DICT = {\n",
    "    'season average': '002022',\n",
    "    'last 7 days average': '012022',\n",
    "    'last 15 days average': '022022',\n",
    "    'last 30 days average': '032022',\n",
    "    \"season's projections\": '102022',\n",
    "    'previous season average': '002021'\n",
    "}"
   ]
  },
  {
   "cell_type": "code",
   "execution_count": 3,
   "metadata": {},
   "outputs": [],
   "source": [
    "cookies = config['cookies']\n",
    "league_settings = config['league']"
   ]
  },
  {
   "cell_type": "code",
   "execution_count": 9,
   "metadata": {},
   "outputs": [],
   "source": [
    "week = 19\n",
    "\n",
    "start_date = \"2022-03-20\"\n",
    "end_date = \"2022-03-20\"\n",
    "\n",
    "home_team = \"DGGG\"\n",
    "away_team = \"MAR\"\n",
    "\n",
    "use_current_score = True\n",
    "stat_type_code = \"season average\""
   ]
  },
  {
   "cell_type": "code",
   "execution_count": 10,
   "metadata": {},
   "outputs": [],
   "source": [
    "start_date = pd.to_datetime(start_date)\n",
    "end_date = pd.to_datetime(end_date)"
   ]
  },
  {
   "cell_type": "code",
   "execution_count": 11,
   "metadata": {},
   "outputs": [
    {
     "name": "stderr",
     "output_type": "stream",
     "text": [
      "2022-03-20 11:01:35,433: EspnFantasyLeague:set_league_team_division_settings INFO: 18 teams participating\n",
      "2022-03-20 11:01:35,435: EspnFantasyLeague:set_league_team_division_settings INFO: 8 starters per team\n"
     ]
    }
   ],
   "source": [
    "espn = EspnFantasyMatchUp(\n",
    "    cookies, league_settings,\n",
    "    week, \n",
    "    home_team=home_team, away_team=away_team, \n",
    "    start_date=start_date, end_date=end_date,\n",
    "    stat_type_code=STAT_PERIOD_DICT[stat_type_code]\n",
    ")"
   ]
  },
  {
   "cell_type": "markdown",
   "metadata": {},
   "source": [
    "# Head to head comparison of season historic stats"
   ]
  },
  {
   "cell_type": "code",
   "execution_count": 12,
   "metadata": {},
   "outputs": [
    {
     "name": "stderr",
     "output_type": "stream",
     "text": [
      "2022-03-20 11:01:36,314: EspnFantasyMatchUp:h2h_season_stats_comparison INFO: projected score DGGG-MAR: 5-4-0\n"
     ]
    },
    {
     "data": {
      "text/html": [
       "<div>\n",
       "<style scoped>\n",
       "    .dataframe tbody tr th:only-of-type {\n",
       "        vertical-align: middle;\n",
       "    }\n",
       "\n",
       "    .dataframe tbody tr th {\n",
       "        vertical-align: top;\n",
       "    }\n",
       "\n",
       "    .dataframe thead th {\n",
       "        text-align: right;\n",
       "    }\n",
       "</style>\n",
       "<table border=\"1\" class=\"dataframe\">\n",
       "  <thead>\n",
       "    <tr style=\"text-align: right;\">\n",
       "      <th>teamAbbr</th>\n",
       "      <th>DGGG</th>\n",
       "      <th>MAR</th>\n",
       "      <th>Projected Winner</th>\n",
       "    </tr>\n",
       "  </thead>\n",
       "  <tbody>\n",
       "    <tr>\n",
       "      <th>FG%</th>\n",
       "      <td>0.463</td>\n",
       "      <td>0.4617</td>\n",
       "      <td>DGGG</td>\n",
       "    </tr>\n",
       "    <tr>\n",
       "      <th>FT%</th>\n",
       "      <td>0.7772</td>\n",
       "      <td>0.7621</td>\n",
       "      <td>DGGG</td>\n",
       "    </tr>\n",
       "    <tr>\n",
       "      <th>3PM</th>\n",
       "      <td>1379</td>\n",
       "      <td>1158</td>\n",
       "      <td>DGGG</td>\n",
       "    </tr>\n",
       "    <tr>\n",
       "      <th>REB</th>\n",
       "      <td>3869</td>\n",
       "      <td>4230</td>\n",
       "      <td>MAR</td>\n",
       "    </tr>\n",
       "    <tr>\n",
       "      <th>AST</th>\n",
       "      <td>2468</td>\n",
       "      <td>2161</td>\n",
       "      <td>DGGG</td>\n",
       "    </tr>\n",
       "    <tr>\n",
       "      <th>STL</th>\n",
       "      <td>646</td>\n",
       "      <td>675</td>\n",
       "      <td>MAR</td>\n",
       "    </tr>\n",
       "    <tr>\n",
       "      <th>BLK</th>\n",
       "      <td>402</td>\n",
       "      <td>459</td>\n",
       "      <td>MAR</td>\n",
       "    </tr>\n",
       "    <tr>\n",
       "      <th>TO</th>\n",
       "      <td>1229</td>\n",
       "      <td>1074</td>\n",
       "      <td>MAR</td>\n",
       "    </tr>\n",
       "    <tr>\n",
       "      <th>PTS</th>\n",
       "      <td>10298</td>\n",
       "      <td>9722</td>\n",
       "      <td>DGGG</td>\n",
       "    </tr>\n",
       "  </tbody>\n",
       "</table>\n",
       "</div>"
      ],
      "text/plain": [
       "teamAbbr    DGGG     MAR Projected Winner\n",
       "FG%        0.463  0.4617             DGGG\n",
       "FT%       0.7772  0.7621             DGGG\n",
       "3PM         1379    1158             DGGG\n",
       "REB         3869    4230              MAR\n",
       "AST         2468    2161             DGGG\n",
       "STL          646     675              MAR\n",
       "BLK          402     459              MAR\n",
       "TO          1229    1074              MAR\n",
       "PTS        10298    9722             DGGG"
      ]
     },
     "execution_count": 12,
     "metadata": {},
     "output_type": "execute_result"
    }
   ],
   "source": [
    "espn.h2h_season_stats_comparison().astype(\"O\")"
   ]
  },
  {
   "cell_type": "markdown",
   "metadata": {},
   "source": [
    "# Compare Schedule (players per day)"
   ]
  },
  {
   "cell_type": "code",
   "execution_count": 13,
   "metadata": {},
   "outputs": [
    {
     "name": "stderr",
     "output_type": "stream",
     "text": [
      "2022-03-20 11:01:36,719: utils:extract_player_stat WARNING: Player Ben Simmons does not have requested data\n",
      "2022-03-20 11:01:36,721: utils:extract_player_stat WARNING: Player Jonathan Isaac does not have requested data\n"
     ]
    },
    {
     "data": {
      "text/html": [
       "<div>\n",
       "<style scoped>\n",
       "    .dataframe tbody tr th:only-of-type {\n",
       "        vertical-align: middle;\n",
       "    }\n",
       "\n",
       "    .dataframe tbody tr th {\n",
       "        vertical-align: top;\n",
       "    }\n",
       "\n",
       "    .dataframe thead th {\n",
       "        text-align: right;\n",
       "    }\n",
       "</style>\n",
       "<table border=\"1\" class=\"dataframe\">\n",
       "  <thead>\n",
       "    <tr style=\"text-align: right;\">\n",
       "      <th></th>\n",
       "      <th>Count-DGGG</th>\n",
       "      <th>Count_valid-DGGG</th>\n",
       "      <th>Unused_subs-DGGG</th>\n",
       "      <th>Count-MAR</th>\n",
       "      <th>Count_valid-MAR</th>\n",
       "      <th>Unused_subs-MAR</th>\n",
       "    </tr>\n",
       "  </thead>\n",
       "  <tbody>\n",
       "    <tr>\n",
       "      <th>2022-03-20</th>\n",
       "      <td>5</td>\n",
       "      <td>5</td>\n",
       "      <td>0</td>\n",
       "      <td>7</td>\n",
       "      <td>7</td>\n",
       "      <td>0</td>\n",
       "    </tr>\n",
       "    <tr>\n",
       "      <th>Total</th>\n",
       "      <td>NaN</td>\n",
       "      <td>5</td>\n",
       "      <td>NaN</td>\n",
       "      <td>NaN</td>\n",
       "      <td>7</td>\n",
       "      <td>NaN</td>\n",
       "    </tr>\n",
       "  </tbody>\n",
       "</table>\n",
       "</div>"
      ],
      "text/plain": [
       "           Count-DGGG Count_valid-DGGG Unused_subs-DGGG Count-MAR  \\\n",
       "2022-03-20          5                5                0         7   \n",
       "Total             NaN                5              NaN       NaN   \n",
       "\n",
       "           Count_valid-MAR Unused_subs-MAR  \n",
       "2022-03-20               7               0  \n",
       "Total                    7             NaN  "
      ]
     },
     "execution_count": 13,
     "metadata": {},
     "output_type": "execute_result"
    }
   ],
   "source": [
    "espn.compare_schedules().astype(\"O\")"
   ]
  },
  {
   "cell_type": "markdown",
   "metadata": {},
   "source": [
    "# Simulate Schedule"
   ]
  },
  {
   "cell_type": "code",
   "execution_count": 14,
   "metadata": {},
   "outputs": [
    {
     "name": "stderr",
     "output_type": "stream",
     "text": [
      "2022-03-20 11:01:38,676: EspnFantasyMatchUp:simulation INFO: Player stats type season average\n"
     ]
    },
    {
     "data": {
      "text/html": [
       "<div>\n",
       "<style scoped>\n",
       "    .dataframe tbody tr th:only-of-type {\n",
       "        vertical-align: middle;\n",
       "    }\n",
       "\n",
       "    .dataframe tbody tr th {\n",
       "        vertical-align: top;\n",
       "    }\n",
       "\n",
       "    .dataframe thead th {\n",
       "        text-align: right;\n",
       "    }\n",
       "</style>\n",
       "<table border=\"1\" class=\"dataframe\">\n",
       "  <thead>\n",
       "    <tr style=\"text-align: right;\">\n",
       "      <th></th>\n",
       "      <th>HomeWinProb</th>\n",
       "      <th>DGGG</th>\n",
       "      <th>MAR</th>\n",
       "    </tr>\n",
       "  </thead>\n",
       "  <tbody>\n",
       "    <tr>\n",
       "      <th>FG%</th>\n",
       "      <td>0.002</td>\n",
       "      <td>0.474968</td>\n",
       "      <td>0.503629</td>\n",
       "    </tr>\n",
       "    <tr>\n",
       "      <th>FT%</th>\n",
       "      <td>99.998</td>\n",
       "      <td>0.764846</td>\n",
       "      <td>0.708328</td>\n",
       "    </tr>\n",
       "    <tr>\n",
       "      <th>3PM</th>\n",
       "      <td>100.000</td>\n",
       "      <td>102.438240</td>\n",
       "      <td>65.066970</td>\n",
       "    </tr>\n",
       "    <tr>\n",
       "      <th>REB</th>\n",
       "      <td>0.000</td>\n",
       "      <td>414.658240</td>\n",
       "      <td>480.490460</td>\n",
       "    </tr>\n",
       "    <tr>\n",
       "      <th>AST</th>\n",
       "      <td>100.000</td>\n",
       "      <td>269.310170</td>\n",
       "      <td>214.201100</td>\n",
       "    </tr>\n",
       "    <tr>\n",
       "      <th>STL</th>\n",
       "      <td>0.000</td>\n",
       "      <td>52.079430</td>\n",
       "      <td>74.981370</td>\n",
       "    </tr>\n",
       "    <tr>\n",
       "      <th>BLK</th>\n",
       "      <td>7.591</td>\n",
       "      <td>44.167650</td>\n",
       "      <td>47.867220</td>\n",
       "    </tr>\n",
       "    <tr>\n",
       "      <th>TO</th>\n",
       "      <td>1.747</td>\n",
       "      <td>126.637300</td>\n",
       "      <td>117.392480</td>\n",
       "    </tr>\n",
       "    <tr>\n",
       "      <th>PTS</th>\n",
       "      <td>96.428</td>\n",
       "      <td>998.391490</td>\n",
       "      <td>975.939210</td>\n",
       "    </tr>\n",
       "  </tbody>\n",
       "</table>\n",
       "</div>"
      ],
      "text/plain": [
       "     HomeWinProb        DGGG         MAR\n",
       "FG%        0.002    0.474968    0.503629\n",
       "FT%       99.998    0.764846    0.708328\n",
       "3PM      100.000  102.438240   65.066970\n",
       "REB        0.000  414.658240  480.490460\n",
       "AST      100.000  269.310170  214.201100\n",
       "STL        0.000   52.079430   74.981370\n",
       "BLK        7.591   44.167650   47.867220\n",
       "TO         1.747  126.637300  117.392480\n",
       "PTS       96.428  998.391490  975.939210"
      ]
     },
     "execution_count": 14,
     "metadata": {},
     "output_type": "execute_result"
    }
   ],
   "source": [
    "espn.simulation(use_current_score=use_current_score)"
   ]
  },
  {
   "cell_type": "markdown",
   "metadata": {},
   "source": [
    "# Scenarios\n",
    "\n",
    "Add or remove players from the roster of either the home or the away team\n",
    "\n",
    "```\n",
    "home_scn_players={\n",
    "    \"add\": {\n",
    "        <plyaer_name>: [<date1>, <date2>],\n",
    "        <player_name2>: [<date1>]\n",
    "    }, \n",
    "    \"remove\": {\n",
    "        <plyaer_name3>: [<date1>, <date2>],\n",
    "        <player_name4>: [<date1>]\n",
    "    }, \n",
    "}\n",
    "```\n",
    "Similar of the away players, using the `away_scn_players` argument. \n",
    "\n",
    "Leave date list empyt if you want to include all dates in the schedule between `start_date` and `end_date`"
   ]
  },
  {
   "cell_type": "code",
   "execution_count": 21,
   "metadata": {},
   "outputs": [
    {
     "name": "stderr",
     "output_type": "stream",
     "text": [
      "2022-03-20 11:16:11,063: EspnFantasyLeague:set_league_team_division_settings INFO: 18 teams participating\n",
      "2022-03-20 11:16:11,070: EspnFantasyLeague:set_league_team_division_settings INFO: 8 starters per team\n"
     ]
    }
   ],
   "source": [
    "scn = EspnFantasyMatchUp(\n",
    "    cookies, league_settings,\n",
    "    week, home_team=home_team, away_team=away_team, start_date=start_date, end_date=end_date,\n",
    "    home_scn_players={\n",
    "        \"add\": {\"Juancho Hernangomez\": []}, \n",
    "        \"remove\": {}\n",
    "    }, \n",
    "    stat_type_code=\"032022\"\n",
    ")"
   ]
  },
  {
   "cell_type": "code",
   "execution_count": 22,
   "metadata": {},
   "outputs": [
    {
     "name": "stderr",
     "output_type": "stream",
     "text": [
      "2022-03-20 11:16:13,156: utils:extract_player_stat WARNING: Player Lonzo Ball does not have requested data\n",
      "2022-03-20 11:16:14,460: utils:extract_player_stat WARNING: Player Ben Simmons does not have requested data\n",
      "2022-03-20 11:16:14,462: utils:extract_player_stat WARNING: Player Jonathan Isaac does not have requested data\n"
     ]
    },
    {
     "data": {
      "text/html": [
       "<div>\n",
       "<style scoped>\n",
       "    .dataframe tbody tr th:only-of-type {\n",
       "        vertical-align: middle;\n",
       "    }\n",
       "\n",
       "    .dataframe tbody tr th {\n",
       "        vertical-align: top;\n",
       "    }\n",
       "\n",
       "    .dataframe thead th {\n",
       "        text-align: right;\n",
       "    }\n",
       "</style>\n",
       "<table border=\"1\" class=\"dataframe\">\n",
       "  <thead>\n",
       "    <tr style=\"text-align: right;\">\n",
       "      <th></th>\n",
       "      <th>Count-DGGG</th>\n",
       "      <th>Count_valid-DGGG</th>\n",
       "      <th>Unused_subs-DGGG</th>\n",
       "      <th>Count-MAR</th>\n",
       "      <th>Count_valid-MAR</th>\n",
       "      <th>Unused_subs-MAR</th>\n",
       "    </tr>\n",
       "  </thead>\n",
       "  <tbody>\n",
       "    <tr>\n",
       "      <th>2022-03-20</th>\n",
       "      <td>6</td>\n",
       "      <td>6</td>\n",
       "      <td>0</td>\n",
       "      <td>7</td>\n",
       "      <td>7</td>\n",
       "      <td>0</td>\n",
       "    </tr>\n",
       "    <tr>\n",
       "      <th>Total</th>\n",
       "      <td>NaN</td>\n",
       "      <td>6</td>\n",
       "      <td>NaN</td>\n",
       "      <td>NaN</td>\n",
       "      <td>7</td>\n",
       "      <td>NaN</td>\n",
       "    </tr>\n",
       "  </tbody>\n",
       "</table>\n",
       "</div>"
      ],
      "text/plain": [
       "           Count-DGGG Count_valid-DGGG Unused_subs-DGGG Count-MAR  \\\n",
       "2022-03-20          6                6                0         7   \n",
       "Total             NaN                6              NaN       NaN   \n",
       "\n",
       "           Count_valid-MAR Unused_subs-MAR  \n",
       "2022-03-20               7               0  \n",
       "Total                    7             NaN  "
      ]
     },
     "execution_count": 22,
     "metadata": {},
     "output_type": "execute_result"
    }
   ],
   "source": [
    "scn.compare_schedules().astype(\"O\")"
   ]
  },
  {
   "cell_type": "code",
   "execution_count": 23,
   "metadata": {},
   "outputs": [
    {
     "name": "stderr",
     "output_type": "stream",
     "text": [
      "2022-03-20 11:16:14,498: EspnFantasyMatchUp:simulation INFO: Player stats type last 30 days average\n"
     ]
    },
    {
     "data": {
      "text/html": [
       "<div>\n",
       "<style scoped>\n",
       "    .dataframe tbody tr th:only-of-type {\n",
       "        vertical-align: middle;\n",
       "    }\n",
       "\n",
       "    .dataframe tbody tr th {\n",
       "        vertical-align: top;\n",
       "    }\n",
       "\n",
       "    .dataframe thead th {\n",
       "        text-align: right;\n",
       "    }\n",
       "</style>\n",
       "<table border=\"1\" class=\"dataframe\">\n",
       "  <thead>\n",
       "    <tr style=\"text-align: right;\">\n",
       "      <th></th>\n",
       "      <th>HomeWinProb</th>\n",
       "      <th>DGGG</th>\n",
       "      <th>MAR</th>\n",
       "    </tr>\n",
       "  </thead>\n",
       "  <tbody>\n",
       "    <tr>\n",
       "      <th>FG%</th>\n",
       "      <td>0.012</td>\n",
       "      <td>0.475136</td>\n",
       "      <td>0.502926</td>\n",
       "    </tr>\n",
       "    <tr>\n",
       "      <th>FT%</th>\n",
       "      <td>99.994</td>\n",
       "      <td>0.762729</td>\n",
       "      <td>0.708887</td>\n",
       "    </tr>\n",
       "    <tr>\n",
       "      <th>3PM</th>\n",
       "      <td>100.000</td>\n",
       "      <td>102.799560</td>\n",
       "      <td>63.537880</td>\n",
       "    </tr>\n",
       "    <tr>\n",
       "      <th>REB</th>\n",
       "      <td>0.000</td>\n",
       "      <td>423.970490</td>\n",
       "      <td>480.602170</td>\n",
       "    </tr>\n",
       "    <tr>\n",
       "      <th>AST</th>\n",
       "      <td>100.000</td>\n",
       "      <td>276.712980</td>\n",
       "      <td>212.431880</td>\n",
       "    </tr>\n",
       "    <tr>\n",
       "      <th>STL</th>\n",
       "      <td>0.000</td>\n",
       "      <td>53.621250</td>\n",
       "      <td>74.494720</td>\n",
       "    </tr>\n",
       "    <tr>\n",
       "      <th>BLK</th>\n",
       "      <td>30.698</td>\n",
       "      <td>46.714500</td>\n",
       "      <td>47.905810</td>\n",
       "    </tr>\n",
       "    <tr>\n",
       "      <th>TO</th>\n",
       "      <td>0.332</td>\n",
       "      <td>128.397960</td>\n",
       "      <td>116.481360</td>\n",
       "    </tr>\n",
       "    <tr>\n",
       "      <th>PTS</th>\n",
       "      <td>99.972</td>\n",
       "      <td>1014.460190</td>\n",
       "      <td>970.866910</td>\n",
       "    </tr>\n",
       "  </tbody>\n",
       "</table>\n",
       "</div>"
      ],
      "text/plain": [
       "     HomeWinProb         DGGG         MAR\n",
       "FG%        0.012     0.475136    0.502926\n",
       "FT%       99.994     0.762729    0.708887\n",
       "3PM      100.000   102.799560   63.537880\n",
       "REB        0.000   423.970490  480.602170\n",
       "AST      100.000   276.712980  212.431880\n",
       "STL        0.000    53.621250   74.494720\n",
       "BLK       30.698    46.714500   47.905810\n",
       "TO         0.332   128.397960  116.481360\n",
       "PTS       99.972  1014.460190  970.866910"
      ]
     },
     "execution_count": 23,
     "metadata": {},
     "output_type": "execute_result"
    }
   ],
   "source": [
    "scn.simulation(use_current_score=True)"
   ]
  },
  {
   "cell_type": "code",
   "execution_count": null,
   "metadata": {},
   "outputs": [],
   "source": []
  },
  {
   "cell_type": "code",
   "execution_count": null,
   "metadata": {},
   "outputs": [],
   "source": []
  }
 ],
 "metadata": {
  "kernelspec": {
   "display_name": "Python 3 (ipykernel)",
   "language": "python",
   "name": "python3"
  },
  "language_info": {
   "codemirror_mode": {
    "name": "ipython",
    "version": 3
   },
   "file_extension": ".py",
   "mimetype": "text/x-python",
   "name": "python",
   "nbconvert_exporter": "python",
   "pygments_lexer": "ipython3",
   "version": "3.8.5"
  }
 },
 "nbformat": 4,
 "nbformat_minor": 4
}
