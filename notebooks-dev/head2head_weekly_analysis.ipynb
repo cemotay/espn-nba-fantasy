{
 "cells": [
  {
   "cell_type": "markdown",
   "metadata": {},
   "source": [
    "# App description\n",
    "\n",
    "This app prepares for an upcoming match-up between two fantasy teams. This is based on a league with *Head to Head Each Category* scoring type and 8 stat categories (FG%, FT%, 3PM, REB, AST, STL, BLK, TO, PTS).\n",
    "\n",
    "* It compares their schedule (number of starter players and unused players) \n",
    "* It compares the teams' historic stats up to this round\n",
    "* Simulates/projects the match-up based on the players' stats and schedule. \n",
    "* Allows for scenarios, such as replace player X with player Y, etc. (feature not currently available, will be added soon)\n",
    "\n",
    "\n",
    "Further details on [this Medium blog post](https://g-giasemidis.medium.com/nba-fantasy-analytics-with-python-on-epsn-f03f10a60187)."
   ]
  },
  {
   "cell_type": "code",
   "execution_count": null,
   "metadata": {},
   "outputs": [],
   "source": [
    "import sys\n",
    "import pandas as pd\n",
    "sys.path.extend([\"../\", \"../src/\"])\n",
    "from src.EspnFantasyMatchUp import EspnFantasyMatchUp\n",
    "from src.utils.io_json import read_json"
   ]
  },
  {
   "cell_type": "code",
   "execution_count": null,
   "metadata": {},
   "outputs": [],
   "source": [
    "config = read_json(\"../config/config.json\")"
   ]
  },
  {
   "cell_type": "code",
   "execution_count": null,
   "metadata": {},
   "outputs": [],
   "source": [
    "cookies = config['cookies']\n",
    "league_settings = config['league']"
   ]
  },
  {
   "cell_type": "code",
   "execution_count": null,
   "metadata": {},
   "outputs": [],
   "source": [
    "week = 4\n",
    "\n",
    "start_date = \"2023-11-19\"\n",
    "end_date = \"2023-11-19\"\n",
    "\n",
    "home_team = \"DGGG\"\n",
    "away_team = \"ILN\"\n",
    "\n",
    "use_current_score = True\n",
    "# valid values: season average, last 7 days average, last 15 days average, last 30 days average, season's projections, previous season average\n",
    "stat_type = \"season average\"  # \"season average\""
   ]
  },
  {
   "cell_type": "code",
   "execution_count": null,
   "metadata": {},
   "outputs": [],
   "source": [
    "start_date = pd.to_datetime(start_date)\n",
    "end_date = pd.to_datetime(end_date)"
   ]
  },
  {
   "cell_type": "code",
   "execution_count": null,
   "metadata": {},
   "outputs": [],
   "source": [
    "espn = EspnFantasyMatchUp(\n",
    "    cookies, league_settings,\n",
    "    week,\n",
    "    home_team=home_team, away_team=away_team,\n",
    "    start_date=start_date, end_date=end_date,\n",
    "    stat_type=stat_type\n",
    ")"
   ]
  },
  {
   "cell_type": "markdown",
   "metadata": {},
   "source": [
    "# Head to head comparison of season historic stats"
   ]
  },
  {
   "cell_type": "code",
   "execution_count": null,
   "metadata": {},
   "outputs": [],
   "source": [
    "espn.current_score_df"
   ]
  },
  {
   "cell_type": "code",
   "execution_count": null,
   "metadata": {},
   "outputs": [],
   "source": [
    "espn.h2h_season_stats_comparison().astype(\"O\")"
   ]
  },
  {
   "cell_type": "markdown",
   "metadata": {},
   "source": [
    "# Compare Schedule (players per day)"
   ]
  },
  {
   "cell_type": "code",
   "execution_count": null,
   "metadata": {},
   "outputs": [],
   "source": [
    "espn.compare_schedules().astype(\"O\")"
   ]
  },
  {
   "cell_type": "markdown",
   "metadata": {},
   "source": [
    "# Simulate Schedule"
   ]
  },
  {
   "cell_type": "code",
   "execution_count": null,
   "metadata": {},
   "outputs": [],
   "source": [
    "espn.simulation(use_current_score=use_current_score)"
   ]
  },
  {
   "cell_type": "markdown",
   "metadata": {},
   "source": [
    "# Scenarios\n",
    "\n",
    "Add or remove players from the roster of either the home or the away team\n",
    "\n",
    "```\n",
    "home_scn_players={\n",
    "    \"add\": {\n",
    "        <plyaer_name>: [<date1>, <date2>],\n",
    "        <player_name2>: [<date1>]\n",
    "    }, \n",
    "    \"remove\": {\n",
    "        <plyaer_name3>: [<date1>, <date2>],\n",
    "        <player_name4>: [<date1>]\n",
    "    }, \n",
    "}\n",
    "```\n",
    "Similar of the away players, using the `away_scn_players` argument. \n",
    "\n",
    "Leave date list empyt if you want to include all dates in the schedule between `start_date` and `end_date`"
   ]
  },
  {
   "cell_type": "code",
   "execution_count": null,
   "metadata": {},
   "outputs": [],
   "source": [
    "scn = EspnFantasyMatchUp(\n",
    "    cookies, league_settings,\n",
    "    week, home_team=home_team, away_team=away_team,\n",
    "    start_date=start_date, end_date=end_date,\n",
    "    home_scn_players={\n",
    "        \"add\": {},\n",
    "        \"remove\": {}\n",
    "    },\n",
    "    away_scn_players={\n",
    "        \"add\": {},\n",
    "        \"remove\": {}\n",
    "    },\n",
    "\n",
    "    stat_type=stat_type\n",
    ")"
   ]
  },
  {
   "cell_type": "code",
   "execution_count": null,
   "metadata": {},
   "outputs": [],
   "source": [
    "scn.compare_schedules().astype(\"O\")"
   ]
  },
  {
   "cell_type": "code",
   "execution_count": null,
   "metadata": {},
   "outputs": [],
   "source": [
    "scn.simulation(use_current_score=False)"
   ]
  }
 ],
 "metadata": {
  "kernelspec": {
   "display_name": "Python 3.8.5 ('espn_fantasy')",
   "language": "python",
   "name": "python3"
  },
  "language_info": {
   "codemirror_mode": {
    "name": "ipython",
    "version": 3
   },
   "file_extension": ".py",
   "mimetype": "text/x-python",
   "name": "python",
   "nbconvert_exporter": "python",
   "pygments_lexer": "ipython3",
   "version": "3.8.5"
  },
  "vscode": {
   "interpreter": {
    "hash": "6edb37ccfdc18e9c7eab4bd77c6551026ea2bf02ad58c1016de1a05e4cc47fab"
   }
  }
 },
 "nbformat": 4,
 "nbformat_minor": 4
}
